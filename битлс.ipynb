{
  "nbformat": 4,
  "nbformat_minor": 0,
  "metadata": {
    "colab": {
      "provenance": []
    },
    "kernelspec": {
      "name": "python3",
      "display_name": "Python 3"
    },
    "language_info": {
      "name": "python"
    }
  },
  "cells": [
    {
      "cell_type": "code",
      "execution_count": 8,
      "metadata": {
        "id": "l7H8vGcK2XZk",
        "outputId": "afc8951c-41d6-4023-b7be-e47f3837bcc1",
        "colab": {
          "base_uri": "https://localhost:8080/",
          "height": 1000
        },
        "collapsed": true
      },
      "outputs": [
        {
          "output_type": "display_data",
          "data": {
            "text/plain": [
              "Готовы начать игру?\n"
            ],
            "text/html": [
              "<pre style=\"white-space:pre;overflow-x:auto;line-height:normal;font-family:Menlo,'DejaVu Sans Mono',consolas,'Courier New',monospace\">Готовы начать игру?\n",
              "</pre>\n"
            ]
          },
          "metadata": {}
        },
        {
          "name": "stdout",
          "output_type": "stream",
          "text": [
            "Введите количество армий [2-4]: 2\n"
          ]
        },
        {
          "output_type": "display_data",
          "data": {
            "text/plain": [
              "Выберите имя для армии \u001b[1;36m1\u001b[0m \u001b[1m(\u001b[0m\u001b[38;5;44mJOHN\u001b[0m, \u001b[38;5;17mPAUL\u001b[0m, \u001b[95mGEORGE\u001b[0m, \u001b[38;5;125mRINGO\u001b[0m\u001b[1m)\u001b[0m: \n"
            ],
            "text/html": [
              "<pre style=\"white-space:pre;overflow-x:auto;line-height:normal;font-family:Menlo,'DejaVu Sans Mono',consolas,'Courier New',monospace\">Выберите имя для армии <span style=\"color: #008080; text-decoration-color: #008080; font-weight: bold\">1</span> <span style=\"font-weight: bold\">(</span><span style=\"color: #00d7d7; text-decoration-color: #00d7d7\">JOHN</span>, <span style=\"color: #00005f; text-decoration-color: #00005f\">PAUL</span>, <span style=\"color: #ff00ff; text-decoration-color: #ff00ff\">GEORGE</span>, <span style=\"color: #af005f; text-decoration-color: #af005f\">RINGO</span><span style=\"font-weight: bold\">)</span>: \n",
              "</pre>\n"
            ]
          },
          "metadata": {}
        },
        {
          "name": "stdout",
          "output_type": "stream",
          "text": [
            "JOHN\n"
          ]
        },
        {
          "output_type": "display_data",
          "data": {
            "text/plain": [
              "Выберите имя для армии \u001b[1;36m2\u001b[0m \u001b[1m(\u001b[0m\u001b[38;5;44mJOHN\u001b[0m, \u001b[38;5;17mPAUL\u001b[0m, \u001b[95mGEORGE\u001b[0m, \u001b[38;5;125mRINGO\u001b[0m\u001b[1m)\u001b[0m: \n"
            ],
            "text/html": [
              "<pre style=\"white-space:pre;overflow-x:auto;line-height:normal;font-family:Menlo,'DejaVu Sans Mono',consolas,'Courier New',monospace\">Выберите имя для армии <span style=\"color: #008080; text-decoration-color: #008080; font-weight: bold\">2</span> <span style=\"font-weight: bold\">(</span><span style=\"color: #00d7d7; text-decoration-color: #00d7d7\">JOHN</span>, <span style=\"color: #00005f; text-decoration-color: #00005f\">PAUL</span>, <span style=\"color: #ff00ff; text-decoration-color: #ff00ff\">GEORGE</span>, <span style=\"color: #af005f; text-decoration-color: #af005f\">RINGO</span><span style=\"font-weight: bold\">)</span>: \n",
              "</pre>\n"
            ]
          },
          "metadata": {}
        },
        {
          "name": "stdout",
          "output_type": "stream",
          "text": [
            "GEORGE\n",
            "Сколько жуков в армии 1? 5\n",
            "Максимальное здоровье жуков в армии 1: 100\n",
            "Максимальная сила атаки в армии 1: 20\n",
            "Сколько жуков в армии 2? 10\n",
            "Максимальное здоровье жуков в армии 2: 50\n",
            "Максимальная сила атаки в армии 2: 35\n"
          ]
        },
        {
          "output_type": "display_data",
          "data": {
            "text/plain": [
              "\n",
              "Создано \u001b[1;36m2\u001b[0m армий!\n"
            ],
            "text/html": [
              "<pre style=\"white-space:pre;overflow-x:auto;line-height:normal;font-family:Menlo,'DejaVu Sans Mono',consolas,'Courier New',monospace\">\n",
              "Создано <span style=\"color: #008080; text-decoration-color: #008080; font-weight: bold\">2</span> армий!\n",
              "</pre>\n"
            ]
          },
          "metadata": {}
        },
        {
          "name": "stdout",
          "output_type": "stream",
          "text": [
            "\n",
            "Начинаем? [Да/Нет]да\n"
          ]
        },
        {
          "output_type": "display_data",
          "data": {
            "text/plain": [
              "\u001b[38;5;44mДжон Леннон\u001b[0m бьет \u001b[95mДжордж Харрисон\u001b[0m в \u001b[3;33mманере Джонни\u001b[0m и наносит \u001b[1;36m20\u001b[0m урона\n"
            ],
            "text/html": [
              "<pre style=\"white-space:pre;overflow-x:auto;line-height:normal;font-family:Menlo,'DejaVu Sans Mono',consolas,'Courier New',monospace\"><span style=\"color: #00d7d7; text-decoration-color: #00d7d7\">Джон Леннон</span> бьет <span style=\"color: #ff00ff; text-decoration-color: #ff00ff\">Джордж Харрисон</span> в <span style=\"color: #808000; text-decoration-color: #808000; font-style: italic\">манере Джонни</span> и наносит <span style=\"color: #008080; text-decoration-color: #008080; font-weight: bold\">20</span> урона\n",
              "</pre>\n"
            ]
          },
          "metadata": {}
        },
        {
          "output_type": "display_data",
          "data": {
            "text/plain": [
              "\u001b[95mДжордж Харрисон\u001b[0m бьет \u001b[38;5;44mДжон Леннон\u001b[0m в \u001b[3;38;5;136mманере Харрисона\u001b[0m и наносит \u001b[1;36m12\u001b[0m урона\n"
            ],
            "text/html": [
              "<pre style=\"white-space:pre;overflow-x:auto;line-height:normal;font-family:Menlo,'DejaVu Sans Mono',consolas,'Courier New',monospace\"><span style=\"color: #ff00ff; text-decoration-color: #ff00ff\">Джордж Харрисон</span> бьет <span style=\"color: #00d7d7; text-decoration-color: #00d7d7\">Джон Леннон</span> в <span style=\"color: #af8700; text-decoration-color: #af8700; font-style: italic\">манере Харрисона</span> и наносит <span style=\"color: #008080; text-decoration-color: #008080; font-weight: bold\">12</span> урона\n",
              "</pre>\n"
            ]
          },
          "metadata": {}
        },
        {
          "output_type": "display_data",
          "data": {
            "text/plain": [
              "\n",
              "Армия \u001b[38;5;44mДжон Леннон\u001b[0m: осталось \u001b[1;36m5\u001b[0m жуков\n"
            ],
            "text/html": [
              "<pre style=\"white-space:pre;overflow-x:auto;line-height:normal;font-family:Menlo,'DejaVu Sans Mono',consolas,'Courier New',monospace\">\n",
              "Армия <span style=\"color: #00d7d7; text-decoration-color: #00d7d7\">Джон Леннон</span>: осталось <span style=\"color: #008080; text-decoration-color: #008080; font-weight: bold\">5</span> жуков\n",
              "</pre>\n"
            ]
          },
          "metadata": {}
        },
        {
          "output_type": "display_data",
          "data": {
            "text/plain": [
              "Армия \u001b[95mДжордж Харрисон\u001b[0m: осталось \u001b[1;36m10\u001b[0m жуков\n"
            ],
            "text/html": [
              "<pre style=\"white-space:pre;overflow-x:auto;line-height:normal;font-family:Menlo,'DejaVu Sans Mono',consolas,'Courier New',monospace\">Армия <span style=\"color: #ff00ff; text-decoration-color: #ff00ff\">Джордж Харрисон</span>: осталось <span style=\"color: #008080; text-decoration-color: #008080; font-weight: bold\">10</span> жуков\n",
              "</pre>\n"
            ]
          },
          "metadata": {}
        },
        {
          "output_type": "display_data",
          "data": {
            "text/plain": [
              "\n"
            ],
            "text/html": [
              "<pre style=\"white-space:pre;overflow-x:auto;line-height:normal;font-family:Menlo,'DejaVu Sans Mono',consolas,'Courier New',monospace\">\n",
              "</pre>\n"
            ]
          },
          "metadata": {}
        },
        {
          "output_type": "display_data",
          "data": {
            "text/plain": [
              "\u001b[38;5;44mДжон Леннон\u001b[0m бьет \u001b[95mДжордж Харрисон\u001b[0m в \u001b[3;33mманере Джонни\u001b[0m и наносит \u001b[1;36m10\u001b[0m урона\n"
            ],
            "text/html": [
              "<pre style=\"white-space:pre;overflow-x:auto;line-height:normal;font-family:Menlo,'DejaVu Sans Mono',consolas,'Courier New',monospace\"><span style=\"color: #00d7d7; text-decoration-color: #00d7d7\">Джон Леннон</span> бьет <span style=\"color: #ff00ff; text-decoration-color: #ff00ff\">Джордж Харрисон</span> в <span style=\"color: #808000; text-decoration-color: #808000; font-style: italic\">манере Джонни</span> и наносит <span style=\"color: #008080; text-decoration-color: #008080; font-weight: bold\">10</span> урона\n",
              "</pre>\n"
            ]
          },
          "metadata": {}
        },
        {
          "output_type": "display_data",
          "data": {
            "text/plain": [
              "\u001b[95mДжордж Харрисон\u001b[0m бьет \u001b[38;5;44mДжон Леннон\u001b[0m в \u001b[3;38;5;136mманере Харрисона\u001b[0m и наносит \u001b[1;36m29\u001b[0m урона\n"
            ],
            "text/html": [
              "<pre style=\"white-space:pre;overflow-x:auto;line-height:normal;font-family:Menlo,'DejaVu Sans Mono',consolas,'Courier New',monospace\"><span style=\"color: #ff00ff; text-decoration-color: #ff00ff\">Джордж Харрисон</span> бьет <span style=\"color: #00d7d7; text-decoration-color: #00d7d7\">Джон Леннон</span> в <span style=\"color: #af8700; text-decoration-color: #af8700; font-style: italic\">манере Харрисона</span> и наносит <span style=\"color: #008080; text-decoration-color: #008080; font-weight: bold\">29</span> урона\n",
              "</pre>\n"
            ]
          },
          "metadata": {}
        },
        {
          "output_type": "display_data",
          "data": {
            "text/plain": [
              "\n",
              "Армия \u001b[38;5;44mДжон Леннон\u001b[0m: осталось \u001b[1;36m5\u001b[0m жуков\n"
            ],
            "text/html": [
              "<pre style=\"white-space:pre;overflow-x:auto;line-height:normal;font-family:Menlo,'DejaVu Sans Mono',consolas,'Courier New',monospace\">\n",
              "Армия <span style=\"color: #00d7d7; text-decoration-color: #00d7d7\">Джон Леннон</span>: осталось <span style=\"color: #008080; text-decoration-color: #008080; font-weight: bold\">5</span> жуков\n",
              "</pre>\n"
            ]
          },
          "metadata": {}
        },
        {
          "output_type": "display_data",
          "data": {
            "text/plain": [
              "Армия \u001b[95mДжордж Харрисон\u001b[0m: осталось \u001b[1;36m10\u001b[0m жуков\n"
            ],
            "text/html": [
              "<pre style=\"white-space:pre;overflow-x:auto;line-height:normal;font-family:Menlo,'DejaVu Sans Mono',consolas,'Courier New',monospace\">Армия <span style=\"color: #ff00ff; text-decoration-color: #ff00ff\">Джордж Харрисон</span>: осталось <span style=\"color: #008080; text-decoration-color: #008080; font-weight: bold\">10</span> жуков\n",
              "</pre>\n"
            ]
          },
          "metadata": {}
        },
        {
          "output_type": "display_data",
          "data": {
            "text/plain": [
              "\n"
            ],
            "text/html": [
              "<pre style=\"white-space:pre;overflow-x:auto;line-height:normal;font-family:Menlo,'DejaVu Sans Mono',consolas,'Courier New',monospace\">\n",
              "</pre>\n"
            ]
          },
          "metadata": {}
        },
        {
          "output_type": "display_data",
          "data": {
            "text/plain": [
              "\u001b[38;5;44mДжон Леннон\u001b[0m бьет \u001b[95mДжордж Харрисон\u001b[0m в \u001b[3;33mманере Джонни\u001b[0m и наносит \u001b[1;36m12\u001b[0m урона\n"
            ],
            "text/html": [
              "<pre style=\"white-space:pre;overflow-x:auto;line-height:normal;font-family:Menlo,'DejaVu Sans Mono',consolas,'Courier New',monospace\"><span style=\"color: #00d7d7; text-decoration-color: #00d7d7\">Джон Леннон</span> бьет <span style=\"color: #ff00ff; text-decoration-color: #ff00ff\">Джордж Харрисон</span> в <span style=\"color: #808000; text-decoration-color: #808000; font-style: italic\">манере Джонни</span> и наносит <span style=\"color: #008080; text-decoration-color: #008080; font-weight: bold\">12</span> урона\n",
              "</pre>\n"
            ]
          },
          "metadata": {}
        },
        {
          "output_type": "display_data",
          "data": {
            "text/plain": [
              "\u001b[95mДжордж Харрисон\u001b[0m бьет \u001b[38;5;44mДжон Леннон\u001b[0m в \u001b[3;38;5;136mманере Харрисона\u001b[0m и наносит \u001b[1;36m17\u001b[0m урона\n"
            ],
            "text/html": [
              "<pre style=\"white-space:pre;overflow-x:auto;line-height:normal;font-family:Menlo,'DejaVu Sans Mono',consolas,'Courier New',monospace\"><span style=\"color: #ff00ff; text-decoration-color: #ff00ff\">Джордж Харрисон</span> бьет <span style=\"color: #00d7d7; text-decoration-color: #00d7d7\">Джон Леннон</span> в <span style=\"color: #af8700; text-decoration-color: #af8700; font-style: italic\">манере Харрисона</span> и наносит <span style=\"color: #008080; text-decoration-color: #008080; font-weight: bold\">17</span> урона\n",
              "</pre>\n"
            ]
          },
          "metadata": {}
        },
        {
          "output_type": "display_data",
          "data": {
            "text/plain": [
              "\n",
              "Армия \u001b[38;5;44mДжон Леннон\u001b[0m: осталось \u001b[1;36m5\u001b[0m жуков\n"
            ],
            "text/html": [
              "<pre style=\"white-space:pre;overflow-x:auto;line-height:normal;font-family:Menlo,'DejaVu Sans Mono',consolas,'Courier New',monospace\">\n",
              "Армия <span style=\"color: #00d7d7; text-decoration-color: #00d7d7\">Джон Леннон</span>: осталось <span style=\"color: #008080; text-decoration-color: #008080; font-weight: bold\">5</span> жуков\n",
              "</pre>\n"
            ]
          },
          "metadata": {}
        },
        {
          "output_type": "display_data",
          "data": {
            "text/plain": [
              "Армия \u001b[95mДжордж Харрисон\u001b[0m: осталось \u001b[1;36m10\u001b[0m жуков\n"
            ],
            "text/html": [
              "<pre style=\"white-space:pre;overflow-x:auto;line-height:normal;font-family:Menlo,'DejaVu Sans Mono',consolas,'Courier New',monospace\">Армия <span style=\"color: #ff00ff; text-decoration-color: #ff00ff\">Джордж Харрисон</span>: осталось <span style=\"color: #008080; text-decoration-color: #008080; font-weight: bold\">10</span> жуков\n",
              "</pre>\n"
            ]
          },
          "metadata": {}
        },
        {
          "output_type": "display_data",
          "data": {
            "text/plain": [
              "\n"
            ],
            "text/html": [
              "<pre style=\"white-space:pre;overflow-x:auto;line-height:normal;font-family:Menlo,'DejaVu Sans Mono',consolas,'Courier New',monospace\">\n",
              "</pre>\n"
            ]
          },
          "metadata": {}
        },
        {
          "output_type": "display_data",
          "data": {
            "text/plain": [
              "\u001b[38;5;44mДжон Леннон\u001b[0m бьет \u001b[95mДжордж Харрисон\u001b[0m в \u001b[3;33mманере Джонни\u001b[0m и наносит \u001b[1;36m12\u001b[0m урона\n"
            ],
            "text/html": [
              "<pre style=\"white-space:pre;overflow-x:auto;line-height:normal;font-family:Menlo,'DejaVu Sans Mono',consolas,'Courier New',monospace\"><span style=\"color: #00d7d7; text-decoration-color: #00d7d7\">Джон Леннон</span> бьет <span style=\"color: #ff00ff; text-decoration-color: #ff00ff\">Джордж Харрисон</span> в <span style=\"color: #808000; text-decoration-color: #808000; font-style: italic\">манере Джонни</span> и наносит <span style=\"color: #008080; text-decoration-color: #008080; font-weight: bold\">12</span> урона\n",
              "</pre>\n"
            ]
          },
          "metadata": {}
        },
        {
          "output_type": "display_data",
          "data": {
            "text/plain": [
              "\u001b[95mДжордж Харрисон\u001b[0m \u001b[1;38;5;160mпогиб\u001b[0m!\n"
            ],
            "text/html": [
              "<pre style=\"white-space:pre;overflow-x:auto;line-height:normal;font-family:Menlo,'DejaVu Sans Mono',consolas,'Courier New',monospace\"><span style=\"color: #ff00ff; text-decoration-color: #ff00ff\">Джордж Харрисон</span> <span style=\"color: #d70000; text-decoration-color: #d70000; font-weight: bold\">погиб</span>!\n",
              "</pre>\n"
            ]
          },
          "metadata": {}
        },
        {
          "output_type": "display_data",
          "data": {
            "text/plain": [
              "\u001b[95mДжордж Харрисон\u001b[0m бьет \u001b[38;5;44mДжон Леннон\u001b[0m в \u001b[3;38;5;136mманере Харрисона\u001b[0m и наносит \u001b[1;36m33\u001b[0m урона\n"
            ],
            "text/html": [
              "<pre style=\"white-space:pre;overflow-x:auto;line-height:normal;font-family:Menlo,'DejaVu Sans Mono',consolas,'Courier New',monospace\"><span style=\"color: #ff00ff; text-decoration-color: #ff00ff\">Джордж Харрисон</span> бьет <span style=\"color: #00d7d7; text-decoration-color: #00d7d7\">Джон Леннон</span> в <span style=\"color: #af8700; text-decoration-color: #af8700; font-style: italic\">манере Харрисона</span> и наносит <span style=\"color: #008080; text-decoration-color: #008080; font-weight: bold\">33</span> урона\n",
              "</pre>\n"
            ]
          },
          "metadata": {}
        },
        {
          "output_type": "display_data",
          "data": {
            "text/plain": [
              "\n",
              "Армия \u001b[38;5;44mДжон Леннон\u001b[0m: осталось \u001b[1;36m5\u001b[0m жуков\n"
            ],
            "text/html": [
              "<pre style=\"white-space:pre;overflow-x:auto;line-height:normal;font-family:Menlo,'DejaVu Sans Mono',consolas,'Courier New',monospace\">\n",
              "Армия <span style=\"color: #00d7d7; text-decoration-color: #00d7d7\">Джон Леннон</span>: осталось <span style=\"color: #008080; text-decoration-color: #008080; font-weight: bold\">5</span> жуков\n",
              "</pre>\n"
            ]
          },
          "metadata": {}
        },
        {
          "output_type": "display_data",
          "data": {
            "text/plain": [
              "Армия \u001b[95mДжордж Харрисон\u001b[0m: осталось \u001b[1;36m9\u001b[0m жуков\n"
            ],
            "text/html": [
              "<pre style=\"white-space:pre;overflow-x:auto;line-height:normal;font-family:Menlo,'DejaVu Sans Mono',consolas,'Courier New',monospace\">Армия <span style=\"color: #ff00ff; text-decoration-color: #ff00ff\">Джордж Харрисон</span>: осталось <span style=\"color: #008080; text-decoration-color: #008080; font-weight: bold\">9</span> жуков\n",
              "</pre>\n"
            ]
          },
          "metadata": {}
        },
        {
          "output_type": "display_data",
          "data": {
            "text/plain": [
              "\n"
            ],
            "text/html": [
              "<pre style=\"white-space:pre;overflow-x:auto;line-height:normal;font-family:Menlo,'DejaVu Sans Mono',consolas,'Courier New',monospace\">\n",
              "</pre>\n"
            ]
          },
          "metadata": {}
        },
        {
          "output_type": "display_data",
          "data": {
            "text/plain": [
              "\u001b[38;5;44mДжон Леннон\u001b[0m бьет \u001b[95mДжордж Харрисон\u001b[0m в \u001b[3;33mманере Джонни\u001b[0m и наносит \u001b[1;36m4\u001b[0m урона\n"
            ],
            "text/html": [
              "<pre style=\"white-space:pre;overflow-x:auto;line-height:normal;font-family:Menlo,'DejaVu Sans Mono',consolas,'Courier New',monospace\"><span style=\"color: #00d7d7; text-decoration-color: #00d7d7\">Джон Леннон</span> бьет <span style=\"color: #ff00ff; text-decoration-color: #ff00ff\">Джордж Харрисон</span> в <span style=\"color: #808000; text-decoration-color: #808000; font-style: italic\">манере Джонни</span> и наносит <span style=\"color: #008080; text-decoration-color: #008080; font-weight: bold\">4</span> урона\n",
              "</pre>\n"
            ]
          },
          "metadata": {}
        },
        {
          "output_type": "display_data",
          "data": {
            "text/plain": [
              "\u001b[95mДжордж Харрисон\u001b[0m \u001b[1;38;5;160mпогиб\u001b[0m!\n"
            ],
            "text/html": [
              "<pre style=\"white-space:pre;overflow-x:auto;line-height:normal;font-family:Menlo,'DejaVu Sans Mono',consolas,'Courier New',monospace\"><span style=\"color: #ff00ff; text-decoration-color: #ff00ff\">Джордж Харрисон</span> <span style=\"color: #d70000; text-decoration-color: #d70000; font-weight: bold\">погиб</span>!\n",
              "</pre>\n"
            ]
          },
          "metadata": {}
        },
        {
          "output_type": "display_data",
          "data": {
            "text/plain": [
              "\u001b[95mДжордж Харрисон\u001b[0m бьет \u001b[38;5;44mДжон Леннон\u001b[0m в \u001b[3;38;5;136mманере Харрисона\u001b[0m и наносит \u001b[1;36m34\u001b[0m урона\n"
            ],
            "text/html": [
              "<pre style=\"white-space:pre;overflow-x:auto;line-height:normal;font-family:Menlo,'DejaVu Sans Mono',consolas,'Courier New',monospace\"><span style=\"color: #ff00ff; text-decoration-color: #ff00ff\">Джордж Харрисон</span> бьет <span style=\"color: #00d7d7; text-decoration-color: #00d7d7\">Джон Леннон</span> в <span style=\"color: #af8700; text-decoration-color: #af8700; font-style: italic\">манере Харрисона</span> и наносит <span style=\"color: #008080; text-decoration-color: #008080; font-weight: bold\">34</span> урона\n",
              "</pre>\n"
            ]
          },
          "metadata": {}
        },
        {
          "output_type": "display_data",
          "data": {
            "text/plain": [
              "\u001b[38;5;44mДжон Леннон\u001b[0m \u001b[1;38;5;160mпогиб\u001b[0m!\n"
            ],
            "text/html": [
              "<pre style=\"white-space:pre;overflow-x:auto;line-height:normal;font-family:Menlo,'DejaVu Sans Mono',consolas,'Courier New',monospace\"><span style=\"color: #00d7d7; text-decoration-color: #00d7d7\">Джон Леннон</span> <span style=\"color: #d70000; text-decoration-color: #d70000; font-weight: bold\">погиб</span>!\n",
              "</pre>\n"
            ]
          },
          "metadata": {}
        },
        {
          "output_type": "display_data",
          "data": {
            "text/plain": [
              "\n",
              "Армия \u001b[38;5;44mДжон Леннон\u001b[0m: осталось \u001b[1;36m4\u001b[0m жуков\n"
            ],
            "text/html": [
              "<pre style=\"white-space:pre;overflow-x:auto;line-height:normal;font-family:Menlo,'DejaVu Sans Mono',consolas,'Courier New',monospace\">\n",
              "Армия <span style=\"color: #00d7d7; text-decoration-color: #00d7d7\">Джон Леннон</span>: осталось <span style=\"color: #008080; text-decoration-color: #008080; font-weight: bold\">4</span> жуков\n",
              "</pre>\n"
            ]
          },
          "metadata": {}
        },
        {
          "output_type": "display_data",
          "data": {
            "text/plain": [
              "Армия \u001b[95mДжордж Харрисон\u001b[0m: осталось \u001b[1;36m8\u001b[0m жуков\n"
            ],
            "text/html": [
              "<pre style=\"white-space:pre;overflow-x:auto;line-height:normal;font-family:Menlo,'DejaVu Sans Mono',consolas,'Courier New',monospace\">Армия <span style=\"color: #ff00ff; text-decoration-color: #ff00ff\">Джордж Харрисон</span>: осталось <span style=\"color: #008080; text-decoration-color: #008080; font-weight: bold\">8</span> жуков\n",
              "</pre>\n"
            ]
          },
          "metadata": {}
        },
        {
          "output_type": "display_data",
          "data": {
            "text/plain": [
              "\n"
            ],
            "text/html": [
              "<pre style=\"white-space:pre;overflow-x:auto;line-height:normal;font-family:Menlo,'DejaVu Sans Mono',consolas,'Courier New',monospace\">\n",
              "</pre>\n"
            ]
          },
          "metadata": {}
        },
        {
          "output_type": "display_data",
          "data": {
            "text/plain": [
              "\u001b[38;5;44mДжон Леннон\u001b[0m бьет \u001b[95mДжордж Харрисон\u001b[0m в \u001b[3;33mманере Джонни\u001b[0m и наносит \u001b[1;36m18\u001b[0m урона\n"
            ],
            "text/html": [
              "<pre style=\"white-space:pre;overflow-x:auto;line-height:normal;font-family:Menlo,'DejaVu Sans Mono',consolas,'Courier New',monospace\"><span style=\"color: #00d7d7; text-decoration-color: #00d7d7\">Джон Леннон</span> бьет <span style=\"color: #ff00ff; text-decoration-color: #ff00ff\">Джордж Харрисон</span> в <span style=\"color: #808000; text-decoration-color: #808000; font-style: italic\">манере Джонни</span> и наносит <span style=\"color: #008080; text-decoration-color: #008080; font-weight: bold\">18</span> урона\n",
              "</pre>\n"
            ]
          },
          "metadata": {}
        },
        {
          "output_type": "display_data",
          "data": {
            "text/plain": [
              "\u001b[95mДжордж Харрисон\u001b[0m бьет \u001b[38;5;44mДжон Леннон\u001b[0m в \u001b[3;38;5;136mманере Харрисона\u001b[0m и наносит \u001b[1;36m4\u001b[0m урона\n"
            ],
            "text/html": [
              "<pre style=\"white-space:pre;overflow-x:auto;line-height:normal;font-family:Menlo,'DejaVu Sans Mono',consolas,'Courier New',monospace\"><span style=\"color: #ff00ff; text-decoration-color: #ff00ff\">Джордж Харрисон</span> бьет <span style=\"color: #00d7d7; text-decoration-color: #00d7d7\">Джон Леннон</span> в <span style=\"color: #af8700; text-decoration-color: #af8700; font-style: italic\">манере Харрисона</span> и наносит <span style=\"color: #008080; text-decoration-color: #008080; font-weight: bold\">4</span> урона\n",
              "</pre>\n"
            ]
          },
          "metadata": {}
        },
        {
          "output_type": "display_data",
          "data": {
            "text/plain": [
              "\n",
              "Армия \u001b[38;5;44mДжон Леннон\u001b[0m: осталось \u001b[1;36m4\u001b[0m жуков\n"
            ],
            "text/html": [
              "<pre style=\"white-space:pre;overflow-x:auto;line-height:normal;font-family:Menlo,'DejaVu Sans Mono',consolas,'Courier New',monospace\">\n",
              "Армия <span style=\"color: #00d7d7; text-decoration-color: #00d7d7\">Джон Леннон</span>: осталось <span style=\"color: #008080; text-decoration-color: #008080; font-weight: bold\">4</span> жуков\n",
              "</pre>\n"
            ]
          },
          "metadata": {}
        },
        {
          "output_type": "display_data",
          "data": {
            "text/plain": [
              "Армия \u001b[95mДжордж Харрисон\u001b[0m: осталось \u001b[1;36m8\u001b[0m жуков\n"
            ],
            "text/html": [
              "<pre style=\"white-space:pre;overflow-x:auto;line-height:normal;font-family:Menlo,'DejaVu Sans Mono',consolas,'Courier New',monospace\">Армия <span style=\"color: #ff00ff; text-decoration-color: #ff00ff\">Джордж Харрисон</span>: осталось <span style=\"color: #008080; text-decoration-color: #008080; font-weight: bold\">8</span> жуков\n",
              "</pre>\n"
            ]
          },
          "metadata": {}
        },
        {
          "output_type": "display_data",
          "data": {
            "text/plain": [
              "\n"
            ],
            "text/html": [
              "<pre style=\"white-space:pre;overflow-x:auto;line-height:normal;font-family:Menlo,'DejaVu Sans Mono',consolas,'Courier New',monospace\">\n",
              "</pre>\n"
            ]
          },
          "metadata": {}
        },
        {
          "output_type": "display_data",
          "data": {
            "text/plain": [
              "\u001b[38;5;44mДжон Леннон\u001b[0m бьет \u001b[95mДжордж Харрисон\u001b[0m в \u001b[3;33mманере Джонни\u001b[0m и наносит \u001b[1;36m7\u001b[0m урона\n"
            ],
            "text/html": [
              "<pre style=\"white-space:pre;overflow-x:auto;line-height:normal;font-family:Menlo,'DejaVu Sans Mono',consolas,'Courier New',monospace\"><span style=\"color: #00d7d7; text-decoration-color: #00d7d7\">Джон Леннон</span> бьет <span style=\"color: #ff00ff; text-decoration-color: #ff00ff\">Джордж Харрисон</span> в <span style=\"color: #808000; text-decoration-color: #808000; font-style: italic\">манере Джонни</span> и наносит <span style=\"color: #008080; text-decoration-color: #008080; font-weight: bold\">7</span> урона\n",
              "</pre>\n"
            ]
          },
          "metadata": {}
        },
        {
          "output_type": "display_data",
          "data": {
            "text/plain": [
              "\u001b[95mДжордж Харрисон\u001b[0m \u001b[1;38;5;160mпогиб\u001b[0m!\n"
            ],
            "text/html": [
              "<pre style=\"white-space:pre;overflow-x:auto;line-height:normal;font-family:Menlo,'DejaVu Sans Mono',consolas,'Courier New',monospace\"><span style=\"color: #ff00ff; text-decoration-color: #ff00ff\">Джордж Харрисон</span> <span style=\"color: #d70000; text-decoration-color: #d70000; font-weight: bold\">погиб</span>!\n",
              "</pre>\n"
            ]
          },
          "metadata": {}
        },
        {
          "output_type": "display_data",
          "data": {
            "text/plain": [
              "\u001b[95mДжордж Харрисон\u001b[0m бьет \u001b[38;5;44mДжон Леннон\u001b[0m в \u001b[3;38;5;136mманере Харрисона\u001b[0m и наносит \u001b[1;36m21\u001b[0m урона\n"
            ],
            "text/html": [
              "<pre style=\"white-space:pre;overflow-x:auto;line-height:normal;font-family:Menlo,'DejaVu Sans Mono',consolas,'Courier New',monospace\"><span style=\"color: #ff00ff; text-decoration-color: #ff00ff\">Джордж Харрисон</span> бьет <span style=\"color: #00d7d7; text-decoration-color: #00d7d7\">Джон Леннон</span> в <span style=\"color: #af8700; text-decoration-color: #af8700; font-style: italic\">манере Харрисона</span> и наносит <span style=\"color: #008080; text-decoration-color: #008080; font-weight: bold\">21</span> урона\n",
              "</pre>\n"
            ]
          },
          "metadata": {}
        },
        {
          "output_type": "display_data",
          "data": {
            "text/plain": [
              "\n",
              "Армия \u001b[38;5;44mДжон Леннон\u001b[0m: осталось \u001b[1;36m4\u001b[0m жуков\n"
            ],
            "text/html": [
              "<pre style=\"white-space:pre;overflow-x:auto;line-height:normal;font-family:Menlo,'DejaVu Sans Mono',consolas,'Courier New',monospace\">\n",
              "Армия <span style=\"color: #00d7d7; text-decoration-color: #00d7d7\">Джон Леннон</span>: осталось <span style=\"color: #008080; text-decoration-color: #008080; font-weight: bold\">4</span> жуков\n",
              "</pre>\n"
            ]
          },
          "metadata": {}
        },
        {
          "output_type": "display_data",
          "data": {
            "text/plain": [
              "Армия \u001b[95mДжордж Харрисон\u001b[0m: осталось \u001b[1;36m7\u001b[0m жуков\n"
            ],
            "text/html": [
              "<pre style=\"white-space:pre;overflow-x:auto;line-height:normal;font-family:Menlo,'DejaVu Sans Mono',consolas,'Courier New',monospace\">Армия <span style=\"color: #ff00ff; text-decoration-color: #ff00ff\">Джордж Харрисон</span>: осталось <span style=\"color: #008080; text-decoration-color: #008080; font-weight: bold\">7</span> жуков\n",
              "</pre>\n"
            ]
          },
          "metadata": {}
        },
        {
          "output_type": "display_data",
          "data": {
            "text/plain": [
              "\n"
            ],
            "text/html": [
              "<pre style=\"white-space:pre;overflow-x:auto;line-height:normal;font-family:Menlo,'DejaVu Sans Mono',consolas,'Courier New',monospace\">\n",
              "</pre>\n"
            ]
          },
          "metadata": {}
        },
        {
          "output_type": "display_data",
          "data": {
            "text/plain": [
              "\u001b[38;5;44mДжон Леннон\u001b[0m бьет \u001b[95mДжордж Харрисон\u001b[0m в \u001b[3;33mманере Джонни\u001b[0m и наносит \u001b[1;36m18\u001b[0m урона\n"
            ],
            "text/html": [
              "<pre style=\"white-space:pre;overflow-x:auto;line-height:normal;font-family:Menlo,'DejaVu Sans Mono',consolas,'Courier New',monospace\"><span style=\"color: #00d7d7; text-decoration-color: #00d7d7\">Джон Леннон</span> бьет <span style=\"color: #ff00ff; text-decoration-color: #ff00ff\">Джордж Харрисон</span> в <span style=\"color: #808000; text-decoration-color: #808000; font-style: italic\">манере Джонни</span> и наносит <span style=\"color: #008080; text-decoration-color: #008080; font-weight: bold\">18</span> урона\n",
              "</pre>\n"
            ]
          },
          "metadata": {}
        },
        {
          "output_type": "display_data",
          "data": {
            "text/plain": [
              "\u001b[95mДжордж Харрисон\u001b[0m \u001b[1;38;5;160mпогиб\u001b[0m!\n"
            ],
            "text/html": [
              "<pre style=\"white-space:pre;overflow-x:auto;line-height:normal;font-family:Menlo,'DejaVu Sans Mono',consolas,'Courier New',monospace\"><span style=\"color: #ff00ff; text-decoration-color: #ff00ff\">Джордж Харрисон</span> <span style=\"color: #d70000; text-decoration-color: #d70000; font-weight: bold\">погиб</span>!\n",
              "</pre>\n"
            ]
          },
          "metadata": {}
        },
        {
          "output_type": "display_data",
          "data": {
            "text/plain": [
              "\u001b[95mДжордж Харрисон\u001b[0m бьет \u001b[38;5;44mДжон Леннон\u001b[0m в \u001b[3;38;5;136mманере Харрисона\u001b[0m и наносит \u001b[1;36m14\u001b[0m урона\n"
            ],
            "text/html": [
              "<pre style=\"white-space:pre;overflow-x:auto;line-height:normal;font-family:Menlo,'DejaVu Sans Mono',consolas,'Courier New',monospace\"><span style=\"color: #ff00ff; text-decoration-color: #ff00ff\">Джордж Харрисон</span> бьет <span style=\"color: #00d7d7; text-decoration-color: #00d7d7\">Джон Леннон</span> в <span style=\"color: #af8700; text-decoration-color: #af8700; font-style: italic\">манере Харрисона</span> и наносит <span style=\"color: #008080; text-decoration-color: #008080; font-weight: bold\">14</span> урона\n",
              "</pre>\n"
            ]
          },
          "metadata": {}
        },
        {
          "output_type": "display_data",
          "data": {
            "text/plain": [
              "\n",
              "Армия \u001b[38;5;44mДжон Леннон\u001b[0m: осталось \u001b[1;36m4\u001b[0m жуков\n"
            ],
            "text/html": [
              "<pre style=\"white-space:pre;overflow-x:auto;line-height:normal;font-family:Menlo,'DejaVu Sans Mono',consolas,'Courier New',monospace\">\n",
              "Армия <span style=\"color: #00d7d7; text-decoration-color: #00d7d7\">Джон Леннон</span>: осталось <span style=\"color: #008080; text-decoration-color: #008080; font-weight: bold\">4</span> жуков\n",
              "</pre>\n"
            ]
          },
          "metadata": {}
        },
        {
          "output_type": "display_data",
          "data": {
            "text/plain": [
              "Армия \u001b[95mДжордж Харрисон\u001b[0m: осталось \u001b[1;36m6\u001b[0m жуков\n"
            ],
            "text/html": [
              "<pre style=\"white-space:pre;overflow-x:auto;line-height:normal;font-family:Menlo,'DejaVu Sans Mono',consolas,'Courier New',monospace\">Армия <span style=\"color: #ff00ff; text-decoration-color: #ff00ff\">Джордж Харрисон</span>: осталось <span style=\"color: #008080; text-decoration-color: #008080; font-weight: bold\">6</span> жуков\n",
              "</pre>\n"
            ]
          },
          "metadata": {}
        },
        {
          "output_type": "display_data",
          "data": {
            "text/plain": [
              "\n"
            ],
            "text/html": [
              "<pre style=\"white-space:pre;overflow-x:auto;line-height:normal;font-family:Menlo,'DejaVu Sans Mono',consolas,'Courier New',monospace\">\n",
              "</pre>\n"
            ]
          },
          "metadata": {}
        },
        {
          "output_type": "display_data",
          "data": {
            "text/plain": [
              "\u001b[38;5;44mДжон Леннон\u001b[0m бьет \u001b[95mДжордж Харрисон\u001b[0m в \u001b[3;33mманере Джонни\u001b[0m и наносит \u001b[1;36m9\u001b[0m урона\n"
            ],
            "text/html": [
              "<pre style=\"white-space:pre;overflow-x:auto;line-height:normal;font-family:Menlo,'DejaVu Sans Mono',consolas,'Courier New',monospace\"><span style=\"color: #00d7d7; text-decoration-color: #00d7d7\">Джон Леннон</span> бьет <span style=\"color: #ff00ff; text-decoration-color: #ff00ff\">Джордж Харрисон</span> в <span style=\"color: #808000; text-decoration-color: #808000; font-style: italic\">манере Джонни</span> и наносит <span style=\"color: #008080; text-decoration-color: #008080; font-weight: bold\">9</span> урона\n",
              "</pre>\n"
            ]
          },
          "metadata": {}
        },
        {
          "output_type": "display_data",
          "data": {
            "text/plain": [
              "\u001b[95mДжордж Харрисон\u001b[0m бьет \u001b[38;5;44mДжон Леннон\u001b[0m в \u001b[3;38;5;136mманере Харрисона\u001b[0m и наносит \u001b[1;36m33\u001b[0m урона\n"
            ],
            "text/html": [
              "<pre style=\"white-space:pre;overflow-x:auto;line-height:normal;font-family:Menlo,'DejaVu Sans Mono',consolas,'Courier New',monospace\"><span style=\"color: #ff00ff; text-decoration-color: #ff00ff\">Джордж Харрисон</span> бьет <span style=\"color: #00d7d7; text-decoration-color: #00d7d7\">Джон Леннон</span> в <span style=\"color: #af8700; text-decoration-color: #af8700; font-style: italic\">манере Харрисона</span> и наносит <span style=\"color: #008080; text-decoration-color: #008080; font-weight: bold\">33</span> урона\n",
              "</pre>\n"
            ]
          },
          "metadata": {}
        },
        {
          "output_type": "display_data",
          "data": {
            "text/plain": [
              "\n",
              "Армия \u001b[38;5;44mДжон Леннон\u001b[0m: осталось \u001b[1;36m4\u001b[0m жуков\n"
            ],
            "text/html": [
              "<pre style=\"white-space:pre;overflow-x:auto;line-height:normal;font-family:Menlo,'DejaVu Sans Mono',consolas,'Courier New',monospace\">\n",
              "Армия <span style=\"color: #00d7d7; text-decoration-color: #00d7d7\">Джон Леннон</span>: осталось <span style=\"color: #008080; text-decoration-color: #008080; font-weight: bold\">4</span> жуков\n",
              "</pre>\n"
            ]
          },
          "metadata": {}
        },
        {
          "output_type": "display_data",
          "data": {
            "text/plain": [
              "Армия \u001b[95mДжордж Харрисон\u001b[0m: осталось \u001b[1;36m6\u001b[0m жуков\n"
            ],
            "text/html": [
              "<pre style=\"white-space:pre;overflow-x:auto;line-height:normal;font-family:Menlo,'DejaVu Sans Mono',consolas,'Courier New',monospace\">Армия <span style=\"color: #ff00ff; text-decoration-color: #ff00ff\">Джордж Харрисон</span>: осталось <span style=\"color: #008080; text-decoration-color: #008080; font-weight: bold\">6</span> жуков\n",
              "</pre>\n"
            ]
          },
          "metadata": {}
        },
        {
          "output_type": "display_data",
          "data": {
            "text/plain": [
              "\n"
            ],
            "text/html": [
              "<pre style=\"white-space:pre;overflow-x:auto;line-height:normal;font-family:Menlo,'DejaVu Sans Mono',consolas,'Courier New',monospace\">\n",
              "</pre>\n"
            ]
          },
          "metadata": {}
        },
        {
          "output_type": "display_data",
          "data": {
            "text/plain": [
              "\u001b[38;5;44mДжон Леннон\u001b[0m бьет \u001b[95mДжордж Харрисон\u001b[0m в \u001b[3;33mманере Джонни\u001b[0m и наносит \u001b[1;36m2\u001b[0m урона\n"
            ],
            "text/html": [
              "<pre style=\"white-space:pre;overflow-x:auto;line-height:normal;font-family:Menlo,'DejaVu Sans Mono',consolas,'Courier New',monospace\"><span style=\"color: #00d7d7; text-decoration-color: #00d7d7\">Джон Леннон</span> бьет <span style=\"color: #ff00ff; text-decoration-color: #ff00ff\">Джордж Харрисон</span> в <span style=\"color: #808000; text-decoration-color: #808000; font-style: italic\">манере Джонни</span> и наносит <span style=\"color: #008080; text-decoration-color: #008080; font-weight: bold\">2</span> урона\n",
              "</pre>\n"
            ]
          },
          "metadata": {}
        },
        {
          "output_type": "display_data",
          "data": {
            "text/plain": [
              "\u001b[95mДжордж Харрисон\u001b[0m бьет \u001b[38;5;44mДжон Леннон\u001b[0m в \u001b[3;38;5;136mманере Харрисона\u001b[0m и наносит \u001b[1;36m25\u001b[0m урона\n"
            ],
            "text/html": [
              "<pre style=\"white-space:pre;overflow-x:auto;line-height:normal;font-family:Menlo,'DejaVu Sans Mono',consolas,'Courier New',monospace\"><span style=\"color: #ff00ff; text-decoration-color: #ff00ff\">Джордж Харрисон</span> бьет <span style=\"color: #00d7d7; text-decoration-color: #00d7d7\">Джон Леннон</span> в <span style=\"color: #af8700; text-decoration-color: #af8700; font-style: italic\">манере Харрисона</span> и наносит <span style=\"color: #008080; text-decoration-color: #008080; font-weight: bold\">25</span> урона\n",
              "</pre>\n"
            ]
          },
          "metadata": {}
        },
        {
          "output_type": "display_data",
          "data": {
            "text/plain": [
              "\u001b[38;5;44mДжон Леннон\u001b[0m \u001b[1;38;5;160mпогиб\u001b[0m!\n"
            ],
            "text/html": [
              "<pre style=\"white-space:pre;overflow-x:auto;line-height:normal;font-family:Menlo,'DejaVu Sans Mono',consolas,'Courier New',monospace\"><span style=\"color: #00d7d7; text-decoration-color: #00d7d7\">Джон Леннон</span> <span style=\"color: #d70000; text-decoration-color: #d70000; font-weight: bold\">погиб</span>!\n",
              "</pre>\n"
            ]
          },
          "metadata": {}
        },
        {
          "output_type": "display_data",
          "data": {
            "text/plain": [
              "\n",
              "Армия \u001b[38;5;44mДжон Леннон\u001b[0m: осталось \u001b[1;36m3\u001b[0m жуков\n"
            ],
            "text/html": [
              "<pre style=\"white-space:pre;overflow-x:auto;line-height:normal;font-family:Menlo,'DejaVu Sans Mono',consolas,'Courier New',monospace\">\n",
              "Армия <span style=\"color: #00d7d7; text-decoration-color: #00d7d7\">Джон Леннон</span>: осталось <span style=\"color: #008080; text-decoration-color: #008080; font-weight: bold\">3</span> жуков\n",
              "</pre>\n"
            ]
          },
          "metadata": {}
        },
        {
          "output_type": "display_data",
          "data": {
            "text/plain": [
              "Армия \u001b[95mДжордж Харрисон\u001b[0m: осталось \u001b[1;36m6\u001b[0m жуков\n"
            ],
            "text/html": [
              "<pre style=\"white-space:pre;overflow-x:auto;line-height:normal;font-family:Menlo,'DejaVu Sans Mono',consolas,'Courier New',monospace\">Армия <span style=\"color: #ff00ff; text-decoration-color: #ff00ff\">Джордж Харрисон</span>: осталось <span style=\"color: #008080; text-decoration-color: #008080; font-weight: bold\">6</span> жуков\n",
              "</pre>\n"
            ]
          },
          "metadata": {}
        },
        {
          "output_type": "display_data",
          "data": {
            "text/plain": [
              "\n"
            ],
            "text/html": [
              "<pre style=\"white-space:pre;overflow-x:auto;line-height:normal;font-family:Menlo,'DejaVu Sans Mono',consolas,'Courier New',monospace\">\n",
              "</pre>\n"
            ]
          },
          "metadata": {}
        },
        {
          "output_type": "display_data",
          "data": {
            "text/plain": [
              "\u001b[38;5;44mДжон Леннон\u001b[0m бьет \u001b[95mДжордж Харрисон\u001b[0m в \u001b[3;33mманере Джонни\u001b[0m и наносит \u001b[1;36m19\u001b[0m урона\n"
            ],
            "text/html": [
              "<pre style=\"white-space:pre;overflow-x:auto;line-height:normal;font-family:Menlo,'DejaVu Sans Mono',consolas,'Courier New',monospace\"><span style=\"color: #00d7d7; text-decoration-color: #00d7d7\">Джон Леннон</span> бьет <span style=\"color: #ff00ff; text-decoration-color: #ff00ff\">Джордж Харрисон</span> в <span style=\"color: #808000; text-decoration-color: #808000; font-style: italic\">манере Джонни</span> и наносит <span style=\"color: #008080; text-decoration-color: #008080; font-weight: bold\">19</span> урона\n",
              "</pre>\n"
            ]
          },
          "metadata": {}
        },
        {
          "output_type": "display_data",
          "data": {
            "text/plain": [
              "\u001b[95mДжордж Харрисон\u001b[0m бьет \u001b[38;5;44mДжон Леннон\u001b[0m в \u001b[3;38;5;136mманере Харрисона\u001b[0m и наносит \u001b[1;36m19\u001b[0m урона\n"
            ],
            "text/html": [
              "<pre style=\"white-space:pre;overflow-x:auto;line-height:normal;font-family:Menlo,'DejaVu Sans Mono',consolas,'Courier New',monospace\"><span style=\"color: #ff00ff; text-decoration-color: #ff00ff\">Джордж Харрисон</span> бьет <span style=\"color: #00d7d7; text-decoration-color: #00d7d7\">Джон Леннон</span> в <span style=\"color: #af8700; text-decoration-color: #af8700; font-style: italic\">манере Харрисона</span> и наносит <span style=\"color: #008080; text-decoration-color: #008080; font-weight: bold\">19</span> урона\n",
              "</pre>\n"
            ]
          },
          "metadata": {}
        },
        {
          "output_type": "display_data",
          "data": {
            "text/plain": [
              "\n",
              "Армия \u001b[38;5;44mДжон Леннон\u001b[0m: осталось \u001b[1;36m3\u001b[0m жуков\n"
            ],
            "text/html": [
              "<pre style=\"white-space:pre;overflow-x:auto;line-height:normal;font-family:Menlo,'DejaVu Sans Mono',consolas,'Courier New',monospace\">\n",
              "Армия <span style=\"color: #00d7d7; text-decoration-color: #00d7d7\">Джон Леннон</span>: осталось <span style=\"color: #008080; text-decoration-color: #008080; font-weight: bold\">3</span> жуков\n",
              "</pre>\n"
            ]
          },
          "metadata": {}
        },
        {
          "output_type": "display_data",
          "data": {
            "text/plain": [
              "Армия \u001b[95mДжордж Харрисон\u001b[0m: осталось \u001b[1;36m6\u001b[0m жуков\n"
            ],
            "text/html": [
              "<pre style=\"white-space:pre;overflow-x:auto;line-height:normal;font-family:Menlo,'DejaVu Sans Mono',consolas,'Courier New',monospace\">Армия <span style=\"color: #ff00ff; text-decoration-color: #ff00ff\">Джордж Харрисон</span>: осталось <span style=\"color: #008080; text-decoration-color: #008080; font-weight: bold\">6</span> жуков\n",
              "</pre>\n"
            ]
          },
          "metadata": {}
        },
        {
          "output_type": "display_data",
          "data": {
            "text/plain": [
              "\n"
            ],
            "text/html": [
              "<pre style=\"white-space:pre;overflow-x:auto;line-height:normal;font-family:Menlo,'DejaVu Sans Mono',consolas,'Courier New',monospace\">\n",
              "</pre>\n"
            ]
          },
          "metadata": {}
        },
        {
          "output_type": "display_data",
          "data": {
            "text/plain": [
              "\u001b[38;5;44mДжон Леннон\u001b[0m бьет \u001b[95mДжордж Харрисон\u001b[0m в \u001b[3;33mманере Джонни\u001b[0m и наносит \u001b[1;36m11\u001b[0m урона\n"
            ],
            "text/html": [
              "<pre style=\"white-space:pre;overflow-x:auto;line-height:normal;font-family:Menlo,'DejaVu Sans Mono',consolas,'Courier New',monospace\"><span style=\"color: #00d7d7; text-decoration-color: #00d7d7\">Джон Леннон</span> бьет <span style=\"color: #ff00ff; text-decoration-color: #ff00ff\">Джордж Харрисон</span> в <span style=\"color: #808000; text-decoration-color: #808000; font-style: italic\">манере Джонни</span> и наносит <span style=\"color: #008080; text-decoration-color: #008080; font-weight: bold\">11</span> урона\n",
              "</pre>\n"
            ]
          },
          "metadata": {}
        },
        {
          "output_type": "display_data",
          "data": {
            "text/plain": [
              "\u001b[95mДжордж Харрисон\u001b[0m \u001b[1;38;5;160mпогиб\u001b[0m!\n"
            ],
            "text/html": [
              "<pre style=\"white-space:pre;overflow-x:auto;line-height:normal;font-family:Menlo,'DejaVu Sans Mono',consolas,'Courier New',monospace\"><span style=\"color: #ff00ff; text-decoration-color: #ff00ff\">Джордж Харрисон</span> <span style=\"color: #d70000; text-decoration-color: #d70000; font-weight: bold\">погиб</span>!\n",
              "</pre>\n"
            ]
          },
          "metadata": {}
        },
        {
          "output_type": "display_data",
          "data": {
            "text/plain": [
              "\u001b[95mДжордж Харрисон\u001b[0m бьет \u001b[38;5;44mДжон Леннон\u001b[0m в \u001b[3;38;5;136mманере Харрисона\u001b[0m и наносит \u001b[1;36m14\u001b[0m урона\n"
            ],
            "text/html": [
              "<pre style=\"white-space:pre;overflow-x:auto;line-height:normal;font-family:Menlo,'DejaVu Sans Mono',consolas,'Courier New',monospace\"><span style=\"color: #ff00ff; text-decoration-color: #ff00ff\">Джордж Харрисон</span> бьет <span style=\"color: #00d7d7; text-decoration-color: #00d7d7\">Джон Леннон</span> в <span style=\"color: #af8700; text-decoration-color: #af8700; font-style: italic\">манере Харрисона</span> и наносит <span style=\"color: #008080; text-decoration-color: #008080; font-weight: bold\">14</span> урона\n",
              "</pre>\n"
            ]
          },
          "metadata": {}
        },
        {
          "output_type": "display_data",
          "data": {
            "text/plain": [
              "\n",
              "Армия \u001b[38;5;44mДжон Леннон\u001b[0m: осталось \u001b[1;36m3\u001b[0m жуков\n"
            ],
            "text/html": [
              "<pre style=\"white-space:pre;overflow-x:auto;line-height:normal;font-family:Menlo,'DejaVu Sans Mono',consolas,'Courier New',monospace\">\n",
              "Армия <span style=\"color: #00d7d7; text-decoration-color: #00d7d7\">Джон Леннон</span>: осталось <span style=\"color: #008080; text-decoration-color: #008080; font-weight: bold\">3</span> жуков\n",
              "</pre>\n"
            ]
          },
          "metadata": {}
        },
        {
          "output_type": "display_data",
          "data": {
            "text/plain": [
              "Армия \u001b[95mДжордж Харрисон\u001b[0m: осталось \u001b[1;36m5\u001b[0m жуков\n"
            ],
            "text/html": [
              "<pre style=\"white-space:pre;overflow-x:auto;line-height:normal;font-family:Menlo,'DejaVu Sans Mono',consolas,'Courier New',monospace\">Армия <span style=\"color: #ff00ff; text-decoration-color: #ff00ff\">Джордж Харрисон</span>: осталось <span style=\"color: #008080; text-decoration-color: #008080; font-weight: bold\">5</span> жуков\n",
              "</pre>\n"
            ]
          },
          "metadata": {}
        },
        {
          "output_type": "display_data",
          "data": {
            "text/plain": [
              "\n"
            ],
            "text/html": [
              "<pre style=\"white-space:pre;overflow-x:auto;line-height:normal;font-family:Menlo,'DejaVu Sans Mono',consolas,'Courier New',monospace\">\n",
              "</pre>\n"
            ]
          },
          "metadata": {}
        },
        {
          "output_type": "display_data",
          "data": {
            "text/plain": [
              "\u001b[38;5;44mДжон Леннон\u001b[0m бьет \u001b[95mДжордж Харрисон\u001b[0m в \u001b[3;33mманере Джонни\u001b[0m и наносит \u001b[1;36m20\u001b[0m урона\n"
            ],
            "text/html": [
              "<pre style=\"white-space:pre;overflow-x:auto;line-height:normal;font-family:Menlo,'DejaVu Sans Mono',consolas,'Courier New',monospace\"><span style=\"color: #00d7d7; text-decoration-color: #00d7d7\">Джон Леннон</span> бьет <span style=\"color: #ff00ff; text-decoration-color: #ff00ff\">Джордж Харрисон</span> в <span style=\"color: #808000; text-decoration-color: #808000; font-style: italic\">манере Джонни</span> и наносит <span style=\"color: #008080; text-decoration-color: #008080; font-weight: bold\">20</span> урона\n",
              "</pre>\n"
            ]
          },
          "metadata": {}
        },
        {
          "output_type": "display_data",
          "data": {
            "text/plain": [
              "\u001b[95mДжордж Харрисон\u001b[0m бьет \u001b[38;5;44mДжон Леннон\u001b[0m в \u001b[3;38;5;136mманере Харрисона\u001b[0m и наносит \u001b[1;36m10\u001b[0m урона\n"
            ],
            "text/html": [
              "<pre style=\"white-space:pre;overflow-x:auto;line-height:normal;font-family:Menlo,'DejaVu Sans Mono',consolas,'Courier New',monospace\"><span style=\"color: #ff00ff; text-decoration-color: #ff00ff\">Джордж Харрисон</span> бьет <span style=\"color: #00d7d7; text-decoration-color: #00d7d7\">Джон Леннон</span> в <span style=\"color: #af8700; text-decoration-color: #af8700; font-style: italic\">манере Харрисона</span> и наносит <span style=\"color: #008080; text-decoration-color: #008080; font-weight: bold\">10</span> урона\n",
              "</pre>\n"
            ]
          },
          "metadata": {}
        },
        {
          "output_type": "display_data",
          "data": {
            "text/plain": [
              "\n",
              "Армия \u001b[38;5;44mДжон Леннон\u001b[0m: осталось \u001b[1;36m3\u001b[0m жуков\n"
            ],
            "text/html": [
              "<pre style=\"white-space:pre;overflow-x:auto;line-height:normal;font-family:Menlo,'DejaVu Sans Mono',consolas,'Courier New',monospace\">\n",
              "Армия <span style=\"color: #00d7d7; text-decoration-color: #00d7d7\">Джон Леннон</span>: осталось <span style=\"color: #008080; text-decoration-color: #008080; font-weight: bold\">3</span> жуков\n",
              "</pre>\n"
            ]
          },
          "metadata": {}
        },
        {
          "output_type": "display_data",
          "data": {
            "text/plain": [
              "Армия \u001b[95mДжордж Харрисон\u001b[0m: осталось \u001b[1;36m5\u001b[0m жуков\n"
            ],
            "text/html": [
              "<pre style=\"white-space:pre;overflow-x:auto;line-height:normal;font-family:Menlo,'DejaVu Sans Mono',consolas,'Courier New',monospace\">Армия <span style=\"color: #ff00ff; text-decoration-color: #ff00ff\">Джордж Харрисон</span>: осталось <span style=\"color: #008080; text-decoration-color: #008080; font-weight: bold\">5</span> жуков\n",
              "</pre>\n"
            ]
          },
          "metadata": {}
        },
        {
          "output_type": "display_data",
          "data": {
            "text/plain": [
              "\n"
            ],
            "text/html": [
              "<pre style=\"white-space:pre;overflow-x:auto;line-height:normal;font-family:Menlo,'DejaVu Sans Mono',consolas,'Courier New',monospace\">\n",
              "</pre>\n"
            ]
          },
          "metadata": {}
        },
        {
          "output_type": "display_data",
          "data": {
            "text/plain": [
              "\u001b[38;5;44mДжон Леннон\u001b[0m бьет \u001b[95mДжордж Харрисон\u001b[0m в \u001b[3;33mманере Джонни\u001b[0m и наносит \u001b[1;36m2\u001b[0m урона\n"
            ],
            "text/html": [
              "<pre style=\"white-space:pre;overflow-x:auto;line-height:normal;font-family:Menlo,'DejaVu Sans Mono',consolas,'Courier New',monospace\"><span style=\"color: #00d7d7; text-decoration-color: #00d7d7\">Джон Леннон</span> бьет <span style=\"color: #ff00ff; text-decoration-color: #ff00ff\">Джордж Харрисон</span> в <span style=\"color: #808000; text-decoration-color: #808000; font-style: italic\">манере Джонни</span> и наносит <span style=\"color: #008080; text-decoration-color: #008080; font-weight: bold\">2</span> урона\n",
              "</pre>\n"
            ]
          },
          "metadata": {}
        },
        {
          "output_type": "display_data",
          "data": {
            "text/plain": [
              "\u001b[95mДжордж Харрисон\u001b[0m бьет \u001b[38;5;44mДжон Леннон\u001b[0m в \u001b[3;38;5;136mманере Харрисона\u001b[0m и наносит \u001b[1;36m2\u001b[0m урона\n"
            ],
            "text/html": [
              "<pre style=\"white-space:pre;overflow-x:auto;line-height:normal;font-family:Menlo,'DejaVu Sans Mono',consolas,'Courier New',monospace\"><span style=\"color: #ff00ff; text-decoration-color: #ff00ff\">Джордж Харрисон</span> бьет <span style=\"color: #00d7d7; text-decoration-color: #00d7d7\">Джон Леннон</span> в <span style=\"color: #af8700; text-decoration-color: #af8700; font-style: italic\">манере Харрисона</span> и наносит <span style=\"color: #008080; text-decoration-color: #008080; font-weight: bold\">2</span> урона\n",
              "</pre>\n"
            ]
          },
          "metadata": {}
        },
        {
          "output_type": "display_data",
          "data": {
            "text/plain": [
              "\n",
              "Армия \u001b[38;5;44mДжон Леннон\u001b[0m: осталось \u001b[1;36m3\u001b[0m жуков\n"
            ],
            "text/html": [
              "<pre style=\"white-space:pre;overflow-x:auto;line-height:normal;font-family:Menlo,'DejaVu Sans Mono',consolas,'Courier New',monospace\">\n",
              "Армия <span style=\"color: #00d7d7; text-decoration-color: #00d7d7\">Джон Леннон</span>: осталось <span style=\"color: #008080; text-decoration-color: #008080; font-weight: bold\">3</span> жуков\n",
              "</pre>\n"
            ]
          },
          "metadata": {}
        },
        {
          "output_type": "display_data",
          "data": {
            "text/plain": [
              "Армия \u001b[95mДжордж Харрисон\u001b[0m: осталось \u001b[1;36m5\u001b[0m жуков\n"
            ],
            "text/html": [
              "<pre style=\"white-space:pre;overflow-x:auto;line-height:normal;font-family:Menlo,'DejaVu Sans Mono',consolas,'Courier New',monospace\">Армия <span style=\"color: #ff00ff; text-decoration-color: #ff00ff\">Джордж Харрисон</span>: осталось <span style=\"color: #008080; text-decoration-color: #008080; font-weight: bold\">5</span> жуков\n",
              "</pre>\n"
            ]
          },
          "metadata": {}
        },
        {
          "output_type": "display_data",
          "data": {
            "text/plain": [
              "\n"
            ],
            "text/html": [
              "<pre style=\"white-space:pre;overflow-x:auto;line-height:normal;font-family:Menlo,'DejaVu Sans Mono',consolas,'Courier New',monospace\">\n",
              "</pre>\n"
            ]
          },
          "metadata": {}
        },
        {
          "output_type": "display_data",
          "data": {
            "text/plain": [
              "\u001b[38;5;44mДжон Леннон\u001b[0m бьет \u001b[95mДжордж Харрисон\u001b[0m в \u001b[3;33mманере Джонни\u001b[0m и наносит \u001b[1;36m5\u001b[0m урона\n"
            ],
            "text/html": [
              "<pre style=\"white-space:pre;overflow-x:auto;line-height:normal;font-family:Menlo,'DejaVu Sans Mono',consolas,'Courier New',monospace\"><span style=\"color: #00d7d7; text-decoration-color: #00d7d7\">Джон Леннон</span> бьет <span style=\"color: #ff00ff; text-decoration-color: #ff00ff\">Джордж Харрисон</span> в <span style=\"color: #808000; text-decoration-color: #808000; font-style: italic\">манере Джонни</span> и наносит <span style=\"color: #008080; text-decoration-color: #008080; font-weight: bold\">5</span> урона\n",
              "</pre>\n"
            ]
          },
          "metadata": {}
        },
        {
          "output_type": "display_data",
          "data": {
            "text/plain": [
              "\u001b[95mДжордж Харрисон\u001b[0m бьет \u001b[38;5;44mДжон Леннон\u001b[0m в \u001b[3;38;5;136mманере Харрисона\u001b[0m и наносит \u001b[1;36m33\u001b[0m урона\n"
            ],
            "text/html": [
              "<pre style=\"white-space:pre;overflow-x:auto;line-height:normal;font-family:Menlo,'DejaVu Sans Mono',consolas,'Courier New',monospace\"><span style=\"color: #ff00ff; text-decoration-color: #ff00ff\">Джордж Харрисон</span> бьет <span style=\"color: #00d7d7; text-decoration-color: #00d7d7\">Джон Леннон</span> в <span style=\"color: #af8700; text-decoration-color: #af8700; font-style: italic\">манере Харрисона</span> и наносит <span style=\"color: #008080; text-decoration-color: #008080; font-weight: bold\">33</span> урона\n",
              "</pre>\n"
            ]
          },
          "metadata": {}
        },
        {
          "output_type": "display_data",
          "data": {
            "text/plain": [
              "\n",
              "Армия \u001b[38;5;44mДжон Леннон\u001b[0m: осталось \u001b[1;36m3\u001b[0m жуков\n"
            ],
            "text/html": [
              "<pre style=\"white-space:pre;overflow-x:auto;line-height:normal;font-family:Menlo,'DejaVu Sans Mono',consolas,'Courier New',monospace\">\n",
              "Армия <span style=\"color: #00d7d7; text-decoration-color: #00d7d7\">Джон Леннон</span>: осталось <span style=\"color: #008080; text-decoration-color: #008080; font-weight: bold\">3</span> жуков\n",
              "</pre>\n"
            ]
          },
          "metadata": {}
        },
        {
          "output_type": "display_data",
          "data": {
            "text/plain": [
              "Армия \u001b[95mДжордж Харрисон\u001b[0m: осталось \u001b[1;36m5\u001b[0m жуков\n"
            ],
            "text/html": [
              "<pre style=\"white-space:pre;overflow-x:auto;line-height:normal;font-family:Menlo,'DejaVu Sans Mono',consolas,'Courier New',monospace\">Армия <span style=\"color: #ff00ff; text-decoration-color: #ff00ff\">Джордж Харрисон</span>: осталось <span style=\"color: #008080; text-decoration-color: #008080; font-weight: bold\">5</span> жуков\n",
              "</pre>\n"
            ]
          },
          "metadata": {}
        },
        {
          "output_type": "display_data",
          "data": {
            "text/plain": [
              "\n"
            ],
            "text/html": [
              "<pre style=\"white-space:pre;overflow-x:auto;line-height:normal;font-family:Menlo,'DejaVu Sans Mono',consolas,'Courier New',monospace\">\n",
              "</pre>\n"
            ]
          },
          "metadata": {}
        },
        {
          "output_type": "display_data",
          "data": {
            "text/plain": [
              "\u001b[38;5;44mДжон Леннон\u001b[0m бьет \u001b[95mДжордж Харрисон\u001b[0m в \u001b[3;33mманере Джонни\u001b[0m и наносит \u001b[1;36m10\u001b[0m урона\n"
            ],
            "text/html": [
              "<pre style=\"white-space:pre;overflow-x:auto;line-height:normal;font-family:Menlo,'DejaVu Sans Mono',consolas,'Courier New',monospace\"><span style=\"color: #00d7d7; text-decoration-color: #00d7d7\">Джон Леннон</span> бьет <span style=\"color: #ff00ff; text-decoration-color: #ff00ff\">Джордж Харрисон</span> в <span style=\"color: #808000; text-decoration-color: #808000; font-style: italic\">манере Джонни</span> и наносит <span style=\"color: #008080; text-decoration-color: #008080; font-weight: bold\">10</span> урона\n",
              "</pre>\n"
            ]
          },
          "metadata": {}
        },
        {
          "output_type": "display_data",
          "data": {
            "text/plain": [
              "\u001b[95mДжордж Харрисон\u001b[0m бьет \u001b[38;5;44mДжон Леннон\u001b[0m в \u001b[3;38;5;136mманере Харрисона\u001b[0m и наносит \u001b[1;36m33\u001b[0m урона\n"
            ],
            "text/html": [
              "<pre style=\"white-space:pre;overflow-x:auto;line-height:normal;font-family:Menlo,'DejaVu Sans Mono',consolas,'Courier New',monospace\"><span style=\"color: #ff00ff; text-decoration-color: #ff00ff\">Джордж Харрисон</span> бьет <span style=\"color: #00d7d7; text-decoration-color: #00d7d7\">Джон Леннон</span> в <span style=\"color: #af8700; text-decoration-color: #af8700; font-style: italic\">манере Харрисона</span> и наносит <span style=\"color: #008080; text-decoration-color: #008080; font-weight: bold\">33</span> урона\n",
              "</pre>\n"
            ]
          },
          "metadata": {}
        },
        {
          "output_type": "display_data",
          "data": {
            "text/plain": [
              "\u001b[38;5;44mДжон Леннон\u001b[0m \u001b[1;38;5;160mпогиб\u001b[0m!\n"
            ],
            "text/html": [
              "<pre style=\"white-space:pre;overflow-x:auto;line-height:normal;font-family:Menlo,'DejaVu Sans Mono',consolas,'Courier New',monospace\"><span style=\"color: #00d7d7; text-decoration-color: #00d7d7\">Джон Леннон</span> <span style=\"color: #d70000; text-decoration-color: #d70000; font-weight: bold\">погиб</span>!\n",
              "</pre>\n"
            ]
          },
          "metadata": {}
        },
        {
          "output_type": "display_data",
          "data": {
            "text/plain": [
              "\n",
              "Армия \u001b[38;5;44mДжон Леннон\u001b[0m: осталось \u001b[1;36m2\u001b[0m жуков\n"
            ],
            "text/html": [
              "<pre style=\"white-space:pre;overflow-x:auto;line-height:normal;font-family:Menlo,'DejaVu Sans Mono',consolas,'Courier New',monospace\">\n",
              "Армия <span style=\"color: #00d7d7; text-decoration-color: #00d7d7\">Джон Леннон</span>: осталось <span style=\"color: #008080; text-decoration-color: #008080; font-weight: bold\">2</span> жуков\n",
              "</pre>\n"
            ]
          },
          "metadata": {}
        },
        {
          "output_type": "display_data",
          "data": {
            "text/plain": [
              "Армия \u001b[95mДжордж Харрисон\u001b[0m: осталось \u001b[1;36m5\u001b[0m жуков\n"
            ],
            "text/html": [
              "<pre style=\"white-space:pre;overflow-x:auto;line-height:normal;font-family:Menlo,'DejaVu Sans Mono',consolas,'Courier New',monospace\">Армия <span style=\"color: #ff00ff; text-decoration-color: #ff00ff\">Джордж Харрисон</span>: осталось <span style=\"color: #008080; text-decoration-color: #008080; font-weight: bold\">5</span> жуков\n",
              "</pre>\n"
            ]
          },
          "metadata": {}
        },
        {
          "output_type": "display_data",
          "data": {
            "text/plain": [
              "\n"
            ],
            "text/html": [
              "<pre style=\"white-space:pre;overflow-x:auto;line-height:normal;font-family:Menlo,'DejaVu Sans Mono',consolas,'Courier New',monospace\">\n",
              "</pre>\n"
            ]
          },
          "metadata": {}
        },
        {
          "output_type": "display_data",
          "data": {
            "text/plain": [
              "\u001b[38;5;44mДжон Леннон\u001b[0m бьет \u001b[95mДжордж Харрисон\u001b[0m в \u001b[3;33mманере Джонни\u001b[0m и наносит \u001b[1;36m7\u001b[0m урона\n"
            ],
            "text/html": [
              "<pre style=\"white-space:pre;overflow-x:auto;line-height:normal;font-family:Menlo,'DejaVu Sans Mono',consolas,'Courier New',monospace\"><span style=\"color: #00d7d7; text-decoration-color: #00d7d7\">Джон Леннон</span> бьет <span style=\"color: #ff00ff; text-decoration-color: #ff00ff\">Джордж Харрисон</span> в <span style=\"color: #808000; text-decoration-color: #808000; font-style: italic\">манере Джонни</span> и наносит <span style=\"color: #008080; text-decoration-color: #008080; font-weight: bold\">7</span> урона\n",
              "</pre>\n"
            ]
          },
          "metadata": {}
        },
        {
          "output_type": "display_data",
          "data": {
            "text/plain": [
              "\u001b[95mДжордж Харрисон\u001b[0m бьет \u001b[38;5;44mДжон Леннон\u001b[0m в \u001b[3;38;5;136mманере Харрисона\u001b[0m и наносит \u001b[1;36m8\u001b[0m урона\n"
            ],
            "text/html": [
              "<pre style=\"white-space:pre;overflow-x:auto;line-height:normal;font-family:Menlo,'DejaVu Sans Mono',consolas,'Courier New',monospace\"><span style=\"color: #ff00ff; text-decoration-color: #ff00ff\">Джордж Харрисон</span> бьет <span style=\"color: #00d7d7; text-decoration-color: #00d7d7\">Джон Леннон</span> в <span style=\"color: #af8700; text-decoration-color: #af8700; font-style: italic\">манере Харрисона</span> и наносит <span style=\"color: #008080; text-decoration-color: #008080; font-weight: bold\">8</span> урона\n",
              "</pre>\n"
            ]
          },
          "metadata": {}
        },
        {
          "output_type": "display_data",
          "data": {
            "text/plain": [
              "\n",
              "Армия \u001b[38;5;44mДжон Леннон\u001b[0m: осталось \u001b[1;36m2\u001b[0m жуков\n"
            ],
            "text/html": [
              "<pre style=\"white-space:pre;overflow-x:auto;line-height:normal;font-family:Menlo,'DejaVu Sans Mono',consolas,'Courier New',monospace\">\n",
              "Армия <span style=\"color: #00d7d7; text-decoration-color: #00d7d7\">Джон Леннон</span>: осталось <span style=\"color: #008080; text-decoration-color: #008080; font-weight: bold\">2</span> жуков\n",
              "</pre>\n"
            ]
          },
          "metadata": {}
        },
        {
          "output_type": "display_data",
          "data": {
            "text/plain": [
              "Армия \u001b[95mДжордж Харрисон\u001b[0m: осталось \u001b[1;36m5\u001b[0m жуков\n"
            ],
            "text/html": [
              "<pre style=\"white-space:pre;overflow-x:auto;line-height:normal;font-family:Menlo,'DejaVu Sans Mono',consolas,'Courier New',monospace\">Армия <span style=\"color: #ff00ff; text-decoration-color: #ff00ff\">Джордж Харрисон</span>: осталось <span style=\"color: #008080; text-decoration-color: #008080; font-weight: bold\">5</span> жуков\n",
              "</pre>\n"
            ]
          },
          "metadata": {}
        },
        {
          "output_type": "display_data",
          "data": {
            "text/plain": [
              "\n"
            ],
            "text/html": [
              "<pre style=\"white-space:pre;overflow-x:auto;line-height:normal;font-family:Menlo,'DejaVu Sans Mono',consolas,'Courier New',monospace\">\n",
              "</pre>\n"
            ]
          },
          "metadata": {}
        },
        {
          "output_type": "display_data",
          "data": {
            "text/plain": [
              "\u001b[38;5;44mДжон Леннон\u001b[0m бьет \u001b[95mДжордж Харрисон\u001b[0m в \u001b[3;33mманере Джонни\u001b[0m и наносит \u001b[1;36m13\u001b[0m урона\n"
            ],
            "text/html": [
              "<pre style=\"white-space:pre;overflow-x:auto;line-height:normal;font-family:Menlo,'DejaVu Sans Mono',consolas,'Courier New',monospace\"><span style=\"color: #00d7d7; text-decoration-color: #00d7d7\">Джон Леннон</span> бьет <span style=\"color: #ff00ff; text-decoration-color: #ff00ff\">Джордж Харрисон</span> в <span style=\"color: #808000; text-decoration-color: #808000; font-style: italic\">манере Джонни</span> и наносит <span style=\"color: #008080; text-decoration-color: #008080; font-weight: bold\">13</span> урона\n",
              "</pre>\n"
            ]
          },
          "metadata": {}
        },
        {
          "output_type": "display_data",
          "data": {
            "text/plain": [
              "\u001b[95mДжордж Харрисон\u001b[0m бьет \u001b[38;5;44mДжон Леннон\u001b[0m в \u001b[3;38;5;136mманере Харрисона\u001b[0m и наносит \u001b[1;36m20\u001b[0m урона\n"
            ],
            "text/html": [
              "<pre style=\"white-space:pre;overflow-x:auto;line-height:normal;font-family:Menlo,'DejaVu Sans Mono',consolas,'Courier New',monospace\"><span style=\"color: #ff00ff; text-decoration-color: #ff00ff\">Джордж Харрисон</span> бьет <span style=\"color: #00d7d7; text-decoration-color: #00d7d7\">Джон Леннон</span> в <span style=\"color: #af8700; text-decoration-color: #af8700; font-style: italic\">манере Харрисона</span> и наносит <span style=\"color: #008080; text-decoration-color: #008080; font-weight: bold\">20</span> урона\n",
              "</pre>\n"
            ]
          },
          "metadata": {}
        },
        {
          "output_type": "display_data",
          "data": {
            "text/plain": [
              "\n",
              "Армия \u001b[38;5;44mДжон Леннон\u001b[0m: осталось \u001b[1;36m2\u001b[0m жуков\n"
            ],
            "text/html": [
              "<pre style=\"white-space:pre;overflow-x:auto;line-height:normal;font-family:Menlo,'DejaVu Sans Mono',consolas,'Courier New',monospace\">\n",
              "Армия <span style=\"color: #00d7d7; text-decoration-color: #00d7d7\">Джон Леннон</span>: осталось <span style=\"color: #008080; text-decoration-color: #008080; font-weight: bold\">2</span> жуков\n",
              "</pre>\n"
            ]
          },
          "metadata": {}
        },
        {
          "output_type": "display_data",
          "data": {
            "text/plain": [
              "Армия \u001b[95mДжордж Харрисон\u001b[0m: осталось \u001b[1;36m5\u001b[0m жуков\n"
            ],
            "text/html": [
              "<pre style=\"white-space:pre;overflow-x:auto;line-height:normal;font-family:Menlo,'DejaVu Sans Mono',consolas,'Courier New',monospace\">Армия <span style=\"color: #ff00ff; text-decoration-color: #ff00ff\">Джордж Харрисон</span>: осталось <span style=\"color: #008080; text-decoration-color: #008080; font-weight: bold\">5</span> жуков\n",
              "</pre>\n"
            ]
          },
          "metadata": {}
        },
        {
          "output_type": "display_data",
          "data": {
            "text/plain": [
              "\n"
            ],
            "text/html": [
              "<pre style=\"white-space:pre;overflow-x:auto;line-height:normal;font-family:Menlo,'DejaVu Sans Mono',consolas,'Courier New',monospace\">\n",
              "</pre>\n"
            ]
          },
          "metadata": {}
        },
        {
          "output_type": "display_data",
          "data": {
            "text/plain": [
              "\u001b[38;5;44mДжон Леннон\u001b[0m бьет \u001b[95mДжордж Харрисон\u001b[0m в \u001b[3;33mманере Джонни\u001b[0m и наносит \u001b[1;36m9\u001b[0m урона\n"
            ],
            "text/html": [
              "<pre style=\"white-space:pre;overflow-x:auto;line-height:normal;font-family:Menlo,'DejaVu Sans Mono',consolas,'Courier New',monospace\"><span style=\"color: #00d7d7; text-decoration-color: #00d7d7\">Джон Леннон</span> бьет <span style=\"color: #ff00ff; text-decoration-color: #ff00ff\">Джордж Харрисон</span> в <span style=\"color: #808000; text-decoration-color: #808000; font-style: italic\">манере Джонни</span> и наносит <span style=\"color: #008080; text-decoration-color: #008080; font-weight: bold\">9</span> урона\n",
              "</pre>\n"
            ]
          },
          "metadata": {}
        },
        {
          "output_type": "display_data",
          "data": {
            "text/plain": [
              "\u001b[95mДжордж Харрисон\u001b[0m \u001b[1;38;5;160mпогиб\u001b[0m!\n"
            ],
            "text/html": [
              "<pre style=\"white-space:pre;overflow-x:auto;line-height:normal;font-family:Menlo,'DejaVu Sans Mono',consolas,'Courier New',monospace\"><span style=\"color: #ff00ff; text-decoration-color: #ff00ff\">Джордж Харрисон</span> <span style=\"color: #d70000; text-decoration-color: #d70000; font-weight: bold\">погиб</span>!\n",
              "</pre>\n"
            ]
          },
          "metadata": {}
        },
        {
          "output_type": "display_data",
          "data": {
            "text/plain": [
              "\u001b[95mДжордж Харрисон\u001b[0m бьет \u001b[38;5;44mДжон Леннон\u001b[0m в \u001b[3;38;5;136mманере Харрисона\u001b[0m и наносит \u001b[1;36m10\u001b[0m урона\n"
            ],
            "text/html": [
              "<pre style=\"white-space:pre;overflow-x:auto;line-height:normal;font-family:Menlo,'DejaVu Sans Mono',consolas,'Courier New',monospace\"><span style=\"color: #ff00ff; text-decoration-color: #ff00ff\">Джордж Харрисон</span> бьет <span style=\"color: #00d7d7; text-decoration-color: #00d7d7\">Джон Леннон</span> в <span style=\"color: #af8700; text-decoration-color: #af8700; font-style: italic\">манере Харрисона</span> и наносит <span style=\"color: #008080; text-decoration-color: #008080; font-weight: bold\">10</span> урона\n",
              "</pre>\n"
            ]
          },
          "metadata": {}
        },
        {
          "output_type": "display_data",
          "data": {
            "text/plain": [
              "\n",
              "Армия \u001b[38;5;44mДжон Леннон\u001b[0m: осталось \u001b[1;36m2\u001b[0m жуков\n"
            ],
            "text/html": [
              "<pre style=\"white-space:pre;overflow-x:auto;line-height:normal;font-family:Menlo,'DejaVu Sans Mono',consolas,'Courier New',monospace\">\n",
              "Армия <span style=\"color: #00d7d7; text-decoration-color: #00d7d7\">Джон Леннон</span>: осталось <span style=\"color: #008080; text-decoration-color: #008080; font-weight: bold\">2</span> жуков\n",
              "</pre>\n"
            ]
          },
          "metadata": {}
        },
        {
          "output_type": "display_data",
          "data": {
            "text/plain": [
              "Армия \u001b[95mДжордж Харрисон\u001b[0m: осталось \u001b[1;36m4\u001b[0m жуков\n"
            ],
            "text/html": [
              "<pre style=\"white-space:pre;overflow-x:auto;line-height:normal;font-family:Menlo,'DejaVu Sans Mono',consolas,'Courier New',monospace\">Армия <span style=\"color: #ff00ff; text-decoration-color: #ff00ff\">Джордж Харрисон</span>: осталось <span style=\"color: #008080; text-decoration-color: #008080; font-weight: bold\">4</span> жуков\n",
              "</pre>\n"
            ]
          },
          "metadata": {}
        },
        {
          "output_type": "display_data",
          "data": {
            "text/plain": [
              "\n"
            ],
            "text/html": [
              "<pre style=\"white-space:pre;overflow-x:auto;line-height:normal;font-family:Menlo,'DejaVu Sans Mono',consolas,'Courier New',monospace\">\n",
              "</pre>\n"
            ]
          },
          "metadata": {}
        },
        {
          "output_type": "display_data",
          "data": {
            "text/plain": [
              "\u001b[38;5;44mДжон Леннон\u001b[0m бьет \u001b[95mДжордж Харрисон\u001b[0m в \u001b[3;33mманере Джонни\u001b[0m и наносит \u001b[1;36m2\u001b[0m урона\n"
            ],
            "text/html": [
              "<pre style=\"white-space:pre;overflow-x:auto;line-height:normal;font-family:Menlo,'DejaVu Sans Mono',consolas,'Courier New',monospace\"><span style=\"color: #00d7d7; text-decoration-color: #00d7d7\">Джон Леннон</span> бьет <span style=\"color: #ff00ff; text-decoration-color: #ff00ff\">Джордж Харрисон</span> в <span style=\"color: #808000; text-decoration-color: #808000; font-style: italic\">манере Джонни</span> и наносит <span style=\"color: #008080; text-decoration-color: #008080; font-weight: bold\">2</span> урона\n",
              "</pre>\n"
            ]
          },
          "metadata": {}
        },
        {
          "output_type": "display_data",
          "data": {
            "text/plain": [
              "\u001b[95mДжордж Харрисон\u001b[0m бьет \u001b[38;5;44mДжон Леннон\u001b[0m в \u001b[3;38;5;136mманере Харрисона\u001b[0m и наносит \u001b[1;36m15\u001b[0m урона\n"
            ],
            "text/html": [
              "<pre style=\"white-space:pre;overflow-x:auto;line-height:normal;font-family:Menlo,'DejaVu Sans Mono',consolas,'Courier New',monospace\"><span style=\"color: #ff00ff; text-decoration-color: #ff00ff\">Джордж Харрисон</span> бьет <span style=\"color: #00d7d7; text-decoration-color: #00d7d7\">Джон Леннон</span> в <span style=\"color: #af8700; text-decoration-color: #af8700; font-style: italic\">манере Харрисона</span> и наносит <span style=\"color: #008080; text-decoration-color: #008080; font-weight: bold\">15</span> урона\n",
              "</pre>\n"
            ]
          },
          "metadata": {}
        },
        {
          "output_type": "display_data",
          "data": {
            "text/plain": [
              "\n",
              "Армия \u001b[38;5;44mДжон Леннон\u001b[0m: осталось \u001b[1;36m2\u001b[0m жуков\n"
            ],
            "text/html": [
              "<pre style=\"white-space:pre;overflow-x:auto;line-height:normal;font-family:Menlo,'DejaVu Sans Mono',consolas,'Courier New',monospace\">\n",
              "Армия <span style=\"color: #00d7d7; text-decoration-color: #00d7d7\">Джон Леннон</span>: осталось <span style=\"color: #008080; text-decoration-color: #008080; font-weight: bold\">2</span> жуков\n",
              "</pre>\n"
            ]
          },
          "metadata": {}
        },
        {
          "output_type": "display_data",
          "data": {
            "text/plain": [
              "Армия \u001b[95mДжордж Харрисон\u001b[0m: осталось \u001b[1;36m4\u001b[0m жуков\n"
            ],
            "text/html": [
              "<pre style=\"white-space:pre;overflow-x:auto;line-height:normal;font-family:Menlo,'DejaVu Sans Mono',consolas,'Courier New',monospace\">Армия <span style=\"color: #ff00ff; text-decoration-color: #ff00ff\">Джордж Харрисон</span>: осталось <span style=\"color: #008080; text-decoration-color: #008080; font-weight: bold\">4</span> жуков\n",
              "</pre>\n"
            ]
          },
          "metadata": {}
        },
        {
          "output_type": "display_data",
          "data": {
            "text/plain": [
              "\n"
            ],
            "text/html": [
              "<pre style=\"white-space:pre;overflow-x:auto;line-height:normal;font-family:Menlo,'DejaVu Sans Mono',consolas,'Courier New',monospace\">\n",
              "</pre>\n"
            ]
          },
          "metadata": {}
        },
        {
          "output_type": "display_data",
          "data": {
            "text/plain": [
              "\u001b[38;5;44mДжон Леннон\u001b[0m бьет \u001b[95mДжордж Харрисон\u001b[0m в \u001b[3;33mманере Джонни\u001b[0m и наносит \u001b[1;36m10\u001b[0m урона\n"
            ],
            "text/html": [
              "<pre style=\"white-space:pre;overflow-x:auto;line-height:normal;font-family:Menlo,'DejaVu Sans Mono',consolas,'Courier New',monospace\"><span style=\"color: #00d7d7; text-decoration-color: #00d7d7\">Джон Леннон</span> бьет <span style=\"color: #ff00ff; text-decoration-color: #ff00ff\">Джордж Харрисон</span> в <span style=\"color: #808000; text-decoration-color: #808000; font-style: italic\">манере Джонни</span> и наносит <span style=\"color: #008080; text-decoration-color: #008080; font-weight: bold\">10</span> урона\n",
              "</pre>\n"
            ]
          },
          "metadata": {}
        },
        {
          "output_type": "display_data",
          "data": {
            "text/plain": [
              "\u001b[95mДжордж Харрисон\u001b[0m бьет \u001b[38;5;44mДжон Леннон\u001b[0m в \u001b[3;38;5;136mманере Харрисона\u001b[0m и наносит \u001b[1;36m15\u001b[0m урона\n"
            ],
            "text/html": [
              "<pre style=\"white-space:pre;overflow-x:auto;line-height:normal;font-family:Menlo,'DejaVu Sans Mono',consolas,'Courier New',monospace\"><span style=\"color: #ff00ff; text-decoration-color: #ff00ff\">Джордж Харрисон</span> бьет <span style=\"color: #00d7d7; text-decoration-color: #00d7d7\">Джон Леннон</span> в <span style=\"color: #af8700; text-decoration-color: #af8700; font-style: italic\">манере Харрисона</span> и наносит <span style=\"color: #008080; text-decoration-color: #008080; font-weight: bold\">15</span> урона\n",
              "</pre>\n"
            ]
          },
          "metadata": {}
        },
        {
          "output_type": "display_data",
          "data": {
            "text/plain": [
              "\n",
              "Армия \u001b[38;5;44mДжон Леннон\u001b[0m: осталось \u001b[1;36m2\u001b[0m жуков\n"
            ],
            "text/html": [
              "<pre style=\"white-space:pre;overflow-x:auto;line-height:normal;font-family:Menlo,'DejaVu Sans Mono',consolas,'Courier New',monospace\">\n",
              "Армия <span style=\"color: #00d7d7; text-decoration-color: #00d7d7\">Джон Леннон</span>: осталось <span style=\"color: #008080; text-decoration-color: #008080; font-weight: bold\">2</span> жуков\n",
              "</pre>\n"
            ]
          },
          "metadata": {}
        },
        {
          "output_type": "display_data",
          "data": {
            "text/plain": [
              "Армия \u001b[95mДжордж Харрисон\u001b[0m: осталось \u001b[1;36m4\u001b[0m жуков\n"
            ],
            "text/html": [
              "<pre style=\"white-space:pre;overflow-x:auto;line-height:normal;font-family:Menlo,'DejaVu Sans Mono',consolas,'Courier New',monospace\">Армия <span style=\"color: #ff00ff; text-decoration-color: #ff00ff\">Джордж Харрисон</span>: осталось <span style=\"color: #008080; text-decoration-color: #008080; font-weight: bold\">4</span> жуков\n",
              "</pre>\n"
            ]
          },
          "metadata": {}
        },
        {
          "output_type": "display_data",
          "data": {
            "text/plain": [
              "\n"
            ],
            "text/html": [
              "<pre style=\"white-space:pre;overflow-x:auto;line-height:normal;font-family:Menlo,'DejaVu Sans Mono',consolas,'Courier New',monospace\">\n",
              "</pre>\n"
            ]
          },
          "metadata": {}
        },
        {
          "output_type": "display_data",
          "data": {
            "text/plain": [
              "\u001b[38;5;44mДжон Леннон\u001b[0m бьет \u001b[95mДжордж Харрисон\u001b[0m в \u001b[3;33mманере Джонни\u001b[0m и наносит \u001b[1;36m14\u001b[0m урона\n"
            ],
            "text/html": [
              "<pre style=\"white-space:pre;overflow-x:auto;line-height:normal;font-family:Menlo,'DejaVu Sans Mono',consolas,'Courier New',monospace\"><span style=\"color: #00d7d7; text-decoration-color: #00d7d7\">Джон Леннон</span> бьет <span style=\"color: #ff00ff; text-decoration-color: #ff00ff\">Джордж Харрисон</span> в <span style=\"color: #808000; text-decoration-color: #808000; font-style: italic\">манере Джонни</span> и наносит <span style=\"color: #008080; text-decoration-color: #008080; font-weight: bold\">14</span> урона\n",
              "</pre>\n"
            ]
          },
          "metadata": {}
        },
        {
          "output_type": "display_data",
          "data": {
            "text/plain": [
              "\u001b[95mДжордж Харрисон\u001b[0m \u001b[1;38;5;160mпогиб\u001b[0m!\n"
            ],
            "text/html": [
              "<pre style=\"white-space:pre;overflow-x:auto;line-height:normal;font-family:Menlo,'DejaVu Sans Mono',consolas,'Courier New',monospace\"><span style=\"color: #ff00ff; text-decoration-color: #ff00ff\">Джордж Харрисон</span> <span style=\"color: #d70000; text-decoration-color: #d70000; font-weight: bold\">погиб</span>!\n",
              "</pre>\n"
            ]
          },
          "metadata": {}
        },
        {
          "output_type": "display_data",
          "data": {
            "text/plain": [
              "\u001b[95mДжордж Харрисон\u001b[0m бьет \u001b[38;5;44mДжон Леннон\u001b[0m в \u001b[3;38;5;136mманере Харрисона\u001b[0m и наносит \u001b[1;36m35\u001b[0m урона\n"
            ],
            "text/html": [
              "<pre style=\"white-space:pre;overflow-x:auto;line-height:normal;font-family:Menlo,'DejaVu Sans Mono',consolas,'Courier New',monospace\"><span style=\"color: #ff00ff; text-decoration-color: #ff00ff\">Джордж Харрисон</span> бьет <span style=\"color: #00d7d7; text-decoration-color: #00d7d7\">Джон Леннон</span> в <span style=\"color: #af8700; text-decoration-color: #af8700; font-style: italic\">манере Харрисона</span> и наносит <span style=\"color: #008080; text-decoration-color: #008080; font-weight: bold\">35</span> урона\n",
              "</pre>\n"
            ]
          },
          "metadata": {}
        },
        {
          "output_type": "display_data",
          "data": {
            "text/plain": [
              "\u001b[38;5;44mДжон Леннон\u001b[0m \u001b[1;38;5;160mпогиб\u001b[0m!\n"
            ],
            "text/html": [
              "<pre style=\"white-space:pre;overflow-x:auto;line-height:normal;font-family:Menlo,'DejaVu Sans Mono',consolas,'Courier New',monospace\"><span style=\"color: #00d7d7; text-decoration-color: #00d7d7\">Джон Леннон</span> <span style=\"color: #d70000; text-decoration-color: #d70000; font-weight: bold\">погиб</span>!\n",
              "</pre>\n"
            ]
          },
          "metadata": {}
        },
        {
          "output_type": "display_data",
          "data": {
            "text/plain": [
              "\n",
              "Армия \u001b[38;5;44mДжон Леннон\u001b[0m: осталось \u001b[1;36m1\u001b[0m жуков\n"
            ],
            "text/html": [
              "<pre style=\"white-space:pre;overflow-x:auto;line-height:normal;font-family:Menlo,'DejaVu Sans Mono',consolas,'Courier New',monospace\">\n",
              "Армия <span style=\"color: #00d7d7; text-decoration-color: #00d7d7\">Джон Леннон</span>: осталось <span style=\"color: #008080; text-decoration-color: #008080; font-weight: bold\">1</span> жуков\n",
              "</pre>\n"
            ]
          },
          "metadata": {}
        },
        {
          "output_type": "display_data",
          "data": {
            "text/plain": [
              "Армия \u001b[95mДжордж Харрисон\u001b[0m: осталось \u001b[1;36m3\u001b[0m жуков\n"
            ],
            "text/html": [
              "<pre style=\"white-space:pre;overflow-x:auto;line-height:normal;font-family:Menlo,'DejaVu Sans Mono',consolas,'Courier New',monospace\">Армия <span style=\"color: #ff00ff; text-decoration-color: #ff00ff\">Джордж Харрисон</span>: осталось <span style=\"color: #008080; text-decoration-color: #008080; font-weight: bold\">3</span> жуков\n",
              "</pre>\n"
            ]
          },
          "metadata": {}
        },
        {
          "output_type": "display_data",
          "data": {
            "text/plain": [
              "\n"
            ],
            "text/html": [
              "<pre style=\"white-space:pre;overflow-x:auto;line-height:normal;font-family:Menlo,'DejaVu Sans Mono',consolas,'Courier New',monospace\">\n",
              "</pre>\n"
            ]
          },
          "metadata": {}
        },
        {
          "output_type": "display_data",
          "data": {
            "text/plain": [
              "\u001b[38;5;44mДжон Леннон\u001b[0m бьет \u001b[95mДжордж Харрисон\u001b[0m в \u001b[3;33mманере Джонни\u001b[0m и наносит \u001b[1;36m5\u001b[0m урона\n"
            ],
            "text/html": [
              "<pre style=\"white-space:pre;overflow-x:auto;line-height:normal;font-family:Menlo,'DejaVu Sans Mono',consolas,'Courier New',monospace\"><span style=\"color: #00d7d7; text-decoration-color: #00d7d7\">Джон Леннон</span> бьет <span style=\"color: #ff00ff; text-decoration-color: #ff00ff\">Джордж Харрисон</span> в <span style=\"color: #808000; text-decoration-color: #808000; font-style: italic\">манере Джонни</span> и наносит <span style=\"color: #008080; text-decoration-color: #008080; font-weight: bold\">5</span> урона\n",
              "</pre>\n"
            ]
          },
          "metadata": {}
        },
        {
          "output_type": "display_data",
          "data": {
            "text/plain": [
              "\u001b[95mДжордж Харрисон\u001b[0m бьет \u001b[38;5;44mДжон Леннон\u001b[0m в \u001b[3;38;5;136mманере Харрисона\u001b[0m и наносит \u001b[1;36m4\u001b[0m урона\n"
            ],
            "text/html": [
              "<pre style=\"white-space:pre;overflow-x:auto;line-height:normal;font-family:Menlo,'DejaVu Sans Mono',consolas,'Courier New',monospace\"><span style=\"color: #ff00ff; text-decoration-color: #ff00ff\">Джордж Харрисон</span> бьет <span style=\"color: #00d7d7; text-decoration-color: #00d7d7\">Джон Леннон</span> в <span style=\"color: #af8700; text-decoration-color: #af8700; font-style: italic\">манере Харрисона</span> и наносит <span style=\"color: #008080; text-decoration-color: #008080; font-weight: bold\">4</span> урона\n",
              "</pre>\n"
            ]
          },
          "metadata": {}
        },
        {
          "output_type": "display_data",
          "data": {
            "text/plain": [
              "\n",
              "Армия \u001b[38;5;44mДжон Леннон\u001b[0m: осталось \u001b[1;36m1\u001b[0m жуков\n"
            ],
            "text/html": [
              "<pre style=\"white-space:pre;overflow-x:auto;line-height:normal;font-family:Menlo,'DejaVu Sans Mono',consolas,'Courier New',monospace\">\n",
              "Армия <span style=\"color: #00d7d7; text-decoration-color: #00d7d7\">Джон Леннон</span>: осталось <span style=\"color: #008080; text-decoration-color: #008080; font-weight: bold\">1</span> жуков\n",
              "</pre>\n"
            ]
          },
          "metadata": {}
        },
        {
          "output_type": "display_data",
          "data": {
            "text/plain": [
              "Армия \u001b[95mДжордж Харрисон\u001b[0m: осталось \u001b[1;36m3\u001b[0m жуков\n"
            ],
            "text/html": [
              "<pre style=\"white-space:pre;overflow-x:auto;line-height:normal;font-family:Menlo,'DejaVu Sans Mono',consolas,'Courier New',monospace\">Армия <span style=\"color: #ff00ff; text-decoration-color: #ff00ff\">Джордж Харрисон</span>: осталось <span style=\"color: #008080; text-decoration-color: #008080; font-weight: bold\">3</span> жуков\n",
              "</pre>\n"
            ]
          },
          "metadata": {}
        },
        {
          "output_type": "display_data",
          "data": {
            "text/plain": [
              "\n"
            ],
            "text/html": [
              "<pre style=\"white-space:pre;overflow-x:auto;line-height:normal;font-family:Menlo,'DejaVu Sans Mono',consolas,'Courier New',monospace\">\n",
              "</pre>\n"
            ]
          },
          "metadata": {}
        },
        {
          "output_type": "display_data",
          "data": {
            "text/plain": [
              "\u001b[38;5;44mДжон Леннон\u001b[0m бьет \u001b[95mДжордж Харрисон\u001b[0m в \u001b[3;33mманере Джонни\u001b[0m и наносит \u001b[1;36m16\u001b[0m урона\n"
            ],
            "text/html": [
              "<pre style=\"white-space:pre;overflow-x:auto;line-height:normal;font-family:Menlo,'DejaVu Sans Mono',consolas,'Courier New',monospace\"><span style=\"color: #00d7d7; text-decoration-color: #00d7d7\">Джон Леннон</span> бьет <span style=\"color: #ff00ff; text-decoration-color: #ff00ff\">Джордж Харрисон</span> в <span style=\"color: #808000; text-decoration-color: #808000; font-style: italic\">манере Джонни</span> и наносит <span style=\"color: #008080; text-decoration-color: #008080; font-weight: bold\">16</span> урона\n",
              "</pre>\n"
            ]
          },
          "metadata": {}
        },
        {
          "output_type": "display_data",
          "data": {
            "text/plain": [
              "\u001b[95mДжордж Харрисон\u001b[0m бьет \u001b[38;5;44mДжон Леннон\u001b[0m в \u001b[3;38;5;136mманере Харрисона\u001b[0m и наносит \u001b[1;36m26\u001b[0m урона\n"
            ],
            "text/html": [
              "<pre style=\"white-space:pre;overflow-x:auto;line-height:normal;font-family:Menlo,'DejaVu Sans Mono',consolas,'Courier New',monospace\"><span style=\"color: #ff00ff; text-decoration-color: #ff00ff\">Джордж Харрисон</span> бьет <span style=\"color: #00d7d7; text-decoration-color: #00d7d7\">Джон Леннон</span> в <span style=\"color: #af8700; text-decoration-color: #af8700; font-style: italic\">манере Харрисона</span> и наносит <span style=\"color: #008080; text-decoration-color: #008080; font-weight: bold\">26</span> урона\n",
              "</pre>\n"
            ]
          },
          "metadata": {}
        },
        {
          "output_type": "display_data",
          "data": {
            "text/plain": [
              "\n",
              "Армия \u001b[38;5;44mДжон Леннон\u001b[0m: осталось \u001b[1;36m1\u001b[0m жуков\n"
            ],
            "text/html": [
              "<pre style=\"white-space:pre;overflow-x:auto;line-height:normal;font-family:Menlo,'DejaVu Sans Mono',consolas,'Courier New',monospace\">\n",
              "Армия <span style=\"color: #00d7d7; text-decoration-color: #00d7d7\">Джон Леннон</span>: осталось <span style=\"color: #008080; text-decoration-color: #008080; font-weight: bold\">1</span> жуков\n",
              "</pre>\n"
            ]
          },
          "metadata": {}
        },
        {
          "output_type": "display_data",
          "data": {
            "text/plain": [
              "Армия \u001b[95mДжордж Харрисон\u001b[0m: осталось \u001b[1;36m3\u001b[0m жуков\n"
            ],
            "text/html": [
              "<pre style=\"white-space:pre;overflow-x:auto;line-height:normal;font-family:Menlo,'DejaVu Sans Mono',consolas,'Courier New',monospace\">Армия <span style=\"color: #ff00ff; text-decoration-color: #ff00ff\">Джордж Харрисон</span>: осталось <span style=\"color: #008080; text-decoration-color: #008080; font-weight: bold\">3</span> жуков\n",
              "</pre>\n"
            ]
          },
          "metadata": {}
        },
        {
          "output_type": "display_data",
          "data": {
            "text/plain": [
              "\n"
            ],
            "text/html": [
              "<pre style=\"white-space:pre;overflow-x:auto;line-height:normal;font-family:Menlo,'DejaVu Sans Mono',consolas,'Courier New',monospace\">\n",
              "</pre>\n"
            ]
          },
          "metadata": {}
        },
        {
          "output_type": "display_data",
          "data": {
            "text/plain": [
              "\u001b[38;5;44mДжон Леннон\u001b[0m бьет \u001b[95mДжордж Харрисон\u001b[0m в \u001b[3;33mманере Джонни\u001b[0m и наносит \u001b[1;36m14\u001b[0m урона\n"
            ],
            "text/html": [
              "<pre style=\"white-space:pre;overflow-x:auto;line-height:normal;font-family:Menlo,'DejaVu Sans Mono',consolas,'Courier New',monospace\"><span style=\"color: #00d7d7; text-decoration-color: #00d7d7\">Джон Леннон</span> бьет <span style=\"color: #ff00ff; text-decoration-color: #ff00ff\">Джордж Харрисон</span> в <span style=\"color: #808000; text-decoration-color: #808000; font-style: italic\">манере Джонни</span> и наносит <span style=\"color: #008080; text-decoration-color: #008080; font-weight: bold\">14</span> урона\n",
              "</pre>\n"
            ]
          },
          "metadata": {}
        },
        {
          "output_type": "display_data",
          "data": {
            "text/plain": [
              "\u001b[95mДжордж Харрисон\u001b[0m бьет \u001b[38;5;44mДжон Леннон\u001b[0m в \u001b[3;38;5;136mманере Харрисона\u001b[0m и наносит \u001b[1;36m24\u001b[0m урона\n"
            ],
            "text/html": [
              "<pre style=\"white-space:pre;overflow-x:auto;line-height:normal;font-family:Menlo,'DejaVu Sans Mono',consolas,'Courier New',monospace\"><span style=\"color: #ff00ff; text-decoration-color: #ff00ff\">Джордж Харрисон</span> бьет <span style=\"color: #00d7d7; text-decoration-color: #00d7d7\">Джон Леннон</span> в <span style=\"color: #af8700; text-decoration-color: #af8700; font-style: italic\">манере Харрисона</span> и наносит <span style=\"color: #008080; text-decoration-color: #008080; font-weight: bold\">24</span> урона\n",
              "</pre>\n"
            ]
          },
          "metadata": {}
        },
        {
          "output_type": "display_data",
          "data": {
            "text/plain": [
              "\n",
              "Армия \u001b[38;5;44mДжон Леннон\u001b[0m: осталось \u001b[1;36m1\u001b[0m жуков\n"
            ],
            "text/html": [
              "<pre style=\"white-space:pre;overflow-x:auto;line-height:normal;font-family:Menlo,'DejaVu Sans Mono',consolas,'Courier New',monospace\">\n",
              "Армия <span style=\"color: #00d7d7; text-decoration-color: #00d7d7\">Джон Леннон</span>: осталось <span style=\"color: #008080; text-decoration-color: #008080; font-weight: bold\">1</span> жуков\n",
              "</pre>\n"
            ]
          },
          "metadata": {}
        },
        {
          "output_type": "display_data",
          "data": {
            "text/plain": [
              "Армия \u001b[95mДжордж Харрисон\u001b[0m: осталось \u001b[1;36m3\u001b[0m жуков\n"
            ],
            "text/html": [
              "<pre style=\"white-space:pre;overflow-x:auto;line-height:normal;font-family:Menlo,'DejaVu Sans Mono',consolas,'Courier New',monospace\">Армия <span style=\"color: #ff00ff; text-decoration-color: #ff00ff\">Джордж Харрисон</span>: осталось <span style=\"color: #008080; text-decoration-color: #008080; font-weight: bold\">3</span> жуков\n",
              "</pre>\n"
            ]
          },
          "metadata": {}
        },
        {
          "output_type": "display_data",
          "data": {
            "text/plain": [
              "\n"
            ],
            "text/html": [
              "<pre style=\"white-space:pre;overflow-x:auto;line-height:normal;font-family:Menlo,'DejaVu Sans Mono',consolas,'Courier New',monospace\">\n",
              "</pre>\n"
            ]
          },
          "metadata": {}
        },
        {
          "output_type": "display_data",
          "data": {
            "text/plain": [
              "\u001b[38;5;44mДжон Леннон\u001b[0m бьет \u001b[95mДжордж Харрисон\u001b[0m в \u001b[3;33mманере Джонни\u001b[0m и наносит \u001b[1;36m6\u001b[0m урона\n"
            ],
            "text/html": [
              "<pre style=\"white-space:pre;overflow-x:auto;line-height:normal;font-family:Menlo,'DejaVu Sans Mono',consolas,'Courier New',monospace\"><span style=\"color: #00d7d7; text-decoration-color: #00d7d7\">Джон Леннон</span> бьет <span style=\"color: #ff00ff; text-decoration-color: #ff00ff\">Джордж Харрисон</span> в <span style=\"color: #808000; text-decoration-color: #808000; font-style: italic\">манере Джонни</span> и наносит <span style=\"color: #008080; text-decoration-color: #008080; font-weight: bold\">6</span> урона\n",
              "</pre>\n"
            ]
          },
          "metadata": {}
        },
        {
          "output_type": "display_data",
          "data": {
            "text/plain": [
              "\u001b[95mДжордж Харрисон\u001b[0m бьет \u001b[38;5;44mДжон Леннон\u001b[0m в \u001b[3;38;5;136mманере Харрисона\u001b[0m и наносит \u001b[1;36m6\u001b[0m урона\n"
            ],
            "text/html": [
              "<pre style=\"white-space:pre;overflow-x:auto;line-height:normal;font-family:Menlo,'DejaVu Sans Mono',consolas,'Courier New',monospace\"><span style=\"color: #ff00ff; text-decoration-color: #ff00ff\">Джордж Харрисон</span> бьет <span style=\"color: #00d7d7; text-decoration-color: #00d7d7\">Джон Леннон</span> в <span style=\"color: #af8700; text-decoration-color: #af8700; font-style: italic\">манере Харрисона</span> и наносит <span style=\"color: #008080; text-decoration-color: #008080; font-weight: bold\">6</span> урона\n",
              "</pre>\n"
            ]
          },
          "metadata": {}
        },
        {
          "output_type": "display_data",
          "data": {
            "text/plain": [
              "\n",
              "Армия \u001b[38;5;44mДжон Леннон\u001b[0m: осталось \u001b[1;36m1\u001b[0m жуков\n"
            ],
            "text/html": [
              "<pre style=\"white-space:pre;overflow-x:auto;line-height:normal;font-family:Menlo,'DejaVu Sans Mono',consolas,'Courier New',monospace\">\n",
              "Армия <span style=\"color: #00d7d7; text-decoration-color: #00d7d7\">Джон Леннон</span>: осталось <span style=\"color: #008080; text-decoration-color: #008080; font-weight: bold\">1</span> жуков\n",
              "</pre>\n"
            ]
          },
          "metadata": {}
        },
        {
          "output_type": "display_data",
          "data": {
            "text/plain": [
              "Армия \u001b[95mДжордж Харрисон\u001b[0m: осталось \u001b[1;36m3\u001b[0m жуков\n"
            ],
            "text/html": [
              "<pre style=\"white-space:pre;overflow-x:auto;line-height:normal;font-family:Menlo,'DejaVu Sans Mono',consolas,'Courier New',monospace\">Армия <span style=\"color: #ff00ff; text-decoration-color: #ff00ff\">Джордж Харрисон</span>: осталось <span style=\"color: #008080; text-decoration-color: #008080; font-weight: bold\">3</span> жуков\n",
              "</pre>\n"
            ]
          },
          "metadata": {}
        },
        {
          "output_type": "display_data",
          "data": {
            "text/plain": [
              "\n"
            ],
            "text/html": [
              "<pre style=\"white-space:pre;overflow-x:auto;line-height:normal;font-family:Menlo,'DejaVu Sans Mono',consolas,'Courier New',monospace\">\n",
              "</pre>\n"
            ]
          },
          "metadata": {}
        },
        {
          "output_type": "display_data",
          "data": {
            "text/plain": [
              "\u001b[38;5;44mДжон Леннон\u001b[0m бьет \u001b[95mДжордж Харрисон\u001b[0m в \u001b[3;33mманере Джонни\u001b[0m и наносит \u001b[1;36m1\u001b[0m урона\n"
            ],
            "text/html": [
              "<pre style=\"white-space:pre;overflow-x:auto;line-height:normal;font-family:Menlo,'DejaVu Sans Mono',consolas,'Courier New',monospace\"><span style=\"color: #00d7d7; text-decoration-color: #00d7d7\">Джон Леннон</span> бьет <span style=\"color: #ff00ff; text-decoration-color: #ff00ff\">Джордж Харрисон</span> в <span style=\"color: #808000; text-decoration-color: #808000; font-style: italic\">манере Джонни</span> и наносит <span style=\"color: #008080; text-decoration-color: #008080; font-weight: bold\">1</span> урона\n",
              "</pre>\n"
            ]
          },
          "metadata": {}
        },
        {
          "output_type": "display_data",
          "data": {
            "text/plain": [
              "\u001b[95mДжордж Харрисон\u001b[0m бьет \u001b[38;5;44mДжон Леннон\u001b[0m в \u001b[3;38;5;136mманере Харрисона\u001b[0m и наносит \u001b[1;36m5\u001b[0m урона\n"
            ],
            "text/html": [
              "<pre style=\"white-space:pre;overflow-x:auto;line-height:normal;font-family:Menlo,'DejaVu Sans Mono',consolas,'Courier New',monospace\"><span style=\"color: #ff00ff; text-decoration-color: #ff00ff\">Джордж Харрисон</span> бьет <span style=\"color: #00d7d7; text-decoration-color: #00d7d7\">Джон Леннон</span> в <span style=\"color: #af8700; text-decoration-color: #af8700; font-style: italic\">манере Харрисона</span> и наносит <span style=\"color: #008080; text-decoration-color: #008080; font-weight: bold\">5</span> урона\n",
              "</pre>\n"
            ]
          },
          "metadata": {}
        },
        {
          "output_type": "display_data",
          "data": {
            "text/plain": [
              "\u001b[38;5;44mДжон Леннон\u001b[0m \u001b[1;38;5;160mпогиб\u001b[0m!\n"
            ],
            "text/html": [
              "<pre style=\"white-space:pre;overflow-x:auto;line-height:normal;font-family:Menlo,'DejaVu Sans Mono',consolas,'Courier New',monospace\"><span style=\"color: #00d7d7; text-decoration-color: #00d7d7\">Джон Леннон</span> <span style=\"color: #d70000; text-decoration-color: #d70000; font-weight: bold\">погиб</span>!\n",
              "</pre>\n"
            ]
          },
          "metadata": {}
        },
        {
          "output_type": "display_data",
          "data": {
            "text/plain": [
              "\n",
              "Армия \u001b[38;5;44mДжон Леннон\u001b[0m: осталось \u001b[1;36m0\u001b[0m жуков\n"
            ],
            "text/html": [
              "<pre style=\"white-space:pre;overflow-x:auto;line-height:normal;font-family:Menlo,'DejaVu Sans Mono',consolas,'Courier New',monospace\">\n",
              "Армия <span style=\"color: #00d7d7; text-decoration-color: #00d7d7\">Джон Леннон</span>: осталось <span style=\"color: #008080; text-decoration-color: #008080; font-weight: bold\">0</span> жуков\n",
              "</pre>\n"
            ]
          },
          "metadata": {}
        },
        {
          "output_type": "display_data",
          "data": {
            "text/plain": [
              "Армия \u001b[95mДжордж Харрисон\u001b[0m: осталось \u001b[1;36m3\u001b[0m жуков\n"
            ],
            "text/html": [
              "<pre style=\"white-space:pre;overflow-x:auto;line-height:normal;font-family:Menlo,'DejaVu Sans Mono',consolas,'Courier New',monospace\">Армия <span style=\"color: #ff00ff; text-decoration-color: #ff00ff\">Джордж Харрисон</span>: осталось <span style=\"color: #008080; text-decoration-color: #008080; font-weight: bold\">3</span> жуков\n",
              "</pre>\n"
            ]
          },
          "metadata": {}
        },
        {
          "output_type": "display_data",
          "data": {
            "text/plain": [
              "\n"
            ],
            "text/html": [
              "<pre style=\"white-space:pre;overflow-x:auto;line-height:normal;font-family:Menlo,'DejaVu Sans Mono',consolas,'Courier New',monospace\">\n",
              "</pre>\n"
            ]
          },
          "metadata": {}
        },
        {
          "output_type": "display_data",
          "data": {
            "text/plain": [
              "Армия \u001b[38;5;44mДжон Леннон\u001b[0m \u001b[1;38;5;160mуничтожена\u001b[0m!\n"
            ],
            "text/html": [
              "<pre style=\"white-space:pre;overflow-x:auto;line-height:normal;font-family:Menlo,'DejaVu Sans Mono',consolas,'Courier New',monospace\">Армия <span style=\"color: #00d7d7; text-decoration-color: #00d7d7\">Джон Леннон</span> <span style=\"color: #d70000; text-decoration-color: #d70000; font-weight: bold\">уничтожена</span>!\n",
              "</pre>\n"
            ]
          },
          "metadata": {}
        },
        {
          "output_type": "display_data",
          "data": {
            "text/plain": [
              "\n"
            ],
            "text/html": [
              "<pre style=\"white-space:pre;overflow-x:auto;line-height:normal;font-family:Menlo,'DejaVu Sans Mono',consolas,'Courier New',monospace\">\n",
              "</pre>\n"
            ]
          },
          "metadata": {}
        },
        {
          "output_type": "display_data",
          "data": {
            "text/plain": [
              "Армия \u001b[95mДжордж Харрисон\u001b[0m \u001b[1;38;5;46mодержала победу\u001b[0m!\n"
            ],
            "text/html": [
              "<pre style=\"white-space:pre;overflow-x:auto;line-height:normal;font-family:Menlo,'DejaVu Sans Mono',consolas,'Courier New',monospace\">Армия <span style=\"color: #ff00ff; text-decoration-color: #ff00ff\">Джордж Харрисон</span> <span style=\"color: #00ff00; text-decoration-color: #00ff00; font-weight: bold\">одержала победу</span>!\n",
              "</pre>\n"
            ]
          },
          "metadata": {}
        },
        {
          "output_type": "display_data",
          "data": {
            "text/plain": [
              "\n"
            ],
            "text/html": [
              "<pre style=\"white-space:pre;overflow-x:auto;line-height:normal;font-family:Menlo,'DejaVu Sans Mono',consolas,'Courier New',monospace\">\n",
              "</pre>\n"
            ]
          },
          "metadata": {}
        }
      ],
      "source": [
        "import random\n",
        "from enum import StrEnum\n",
        "from typing import Self\n",
        "from rich import print as rprint\n",
        "\n",
        "\n",
        "class Names(StrEnum):\n",
        "    JOHN = f\"[dark_turquoise]Джон Леннон[/dark_turquoise]\"\n",
        "    PAUL = f\"[navy_blue]Пол Маккартни[/navy_blue]\"\n",
        "    GEORGE = f\"[bright_magenta]Джордж Харрисон[/bright_magenta]\"\n",
        "    RINGO = f\"[deep_pink4]Ринго Старр[/deep_pink4]\"\n",
        "\n",
        "\n",
        "class Beetle:\n",
        "    health_points: int\n",
        "    name: Names\n",
        "    max_power: int\n",
        "\n",
        "    def __init__(\n",
        "        self,\n",
        "        health_points: int = 100,\n",
        "        name: Names = Names.JOHN,\n",
        "        max_power: int = 10\n",
        "    ) -> None:\n",
        "        self.health_points = health_points\n",
        "        self.name = name\n",
        "        self.max_power = max_power\n",
        "\n",
        "    def __eq__(self, other: Self) -> bool:\n",
        "        return self.health_points == other.health_points\n",
        "\n",
        "    def __lt__(self, other: Self) -> bool:\n",
        "        return self.health_points < other.health_points\n",
        "\n",
        "    def __le__(self, other: Self) -> bool:\n",
        "        return self.health_points <= other.health_points\n",
        "\n",
        "    def __str__(self) -> str:\n",
        "        return f'Жук(имя=\"{self.name}\", здоровье={self.health_points!r}, сила={self.max_power!r})'\n",
        "\n",
        "    def attack_style(self) -> str:\n",
        "        if self.name is Names.JOHN:\n",
        "            return \"в [yellow italic]манере Джонни[/yellow italic]\"\n",
        "        elif self.name is Names.PAUL:\n",
        "            return \"в [green italic]манере Маккартни[/green italic]\"\n",
        "        elif self.name is Names.GEORGE:\n",
        "            return \"в [dark_goldenrod italic]манере Харрисона[/dark_goldenrod italic]\"\n",
        "        elif self.name is Names.RINGO:\n",
        "            return \"в [pale_turquoise1 italic]манере Ринго[/pale_turquoise1 italic]\"\n",
        "\n",
        "    def attack(self, other: Self) -> None:\n",
        "        damage = random.randint(1, self.max_power)\n",
        "        rprint(f\"{self.name} бьет {other.name} {self.attack_style()} и наносит {damage} урона\")\n",
        "        other.health_points -= damage\n",
        "\n",
        "\n",
        "class BeetlesArmy:\n",
        "    beetles_list: list[Beetle]\n",
        "    beetles_name: Names\n",
        "    beetles_max_health: int\n",
        "    beetles_max_power: int\n",
        "\n",
        "    def __init__(\n",
        "        self,\n",
        "        beetles_name: Names,\n",
        "        beetles_army_size: int = 20,\n",
        "        beetles_max_health: int = 100,\n",
        "        beetles_max_power: int = 10\n",
        "    ):\n",
        "        self.beetles_list = []\n",
        "        self.beetles_name = beetles_name\n",
        "        self.beetles_max_health = beetles_max_health\n",
        "        self.beetles_max_power = beetles_max_power\n",
        "\n",
        "        for _ in range(beetles_army_size):\n",
        "            beetle = Beetle(\n",
        "                health_points=random.randint(1, self.beetles_max_health),\n",
        "                name=self.beetles_name,\n",
        "                max_power=self.beetles_max_power,\n",
        "            )\n",
        "            self.beetles_list.append(beetle)\n",
        "\n",
        "    def __len__(self) -> int:\n",
        "        return len(self.beetles_list)\n",
        "\n",
        "    def show_army(self):\n",
        "        for beetle in self.beetles_list:\n",
        "            rprint(beetle)\n",
        "\n",
        "\n",
        "def begin_game():\n",
        "    rprint(\"Готовы начать игру?\")\n",
        "    army_count = int(input(\"Введите количество армий [2-4]: \"))\n",
        "\n",
        "    if army_count < 2 or army_count > 4:\n",
        "        rprint(\"Неверное количество. Нужно от 2 до 4.\")\n",
        "    else:\n",
        "        create_armies(army_count)\n",
        "\n",
        "\n",
        "def create_armies(army_count):\n",
        "    chosen_names = []\n",
        "    while len(chosen_names) < army_count:\n",
        "        rprint(f\"Выберите имя для армии {len(chosen_names) + 1} ([dark_turquoise]JOHN[/dark_turquoise], [navy_blue]PAUL[/navy_blue], [bright_magenta]GEORGE[/bright_magenta], [deep_pink4]RINGO[/deep_pink4]): \")\n",
        "        name_choice = input()\n",
        "\n",
        "        if name_choice.upper() not in [\"JOHN\", \"PAUL\", \"GEORGE\", \"RINGO\"]:\n",
        "            rprint(\"Нет такого имени. Выберите из списка.\")\n",
        "        else:\n",
        "            chosen_names.append(name_choice)\n",
        "\n",
        "    armies = []\n",
        "    for i, name in enumerate(chosen_names):\n",
        "        name_enum = Names[name.upper()]\n",
        "\n",
        "        size = int(input(f\"Сколько жуков в армии {i + 1}? \"))\n",
        "\n",
        "        max_hp = int(input(f\"Максимальное здоровье жуков в армии {i + 1}: \"))\n",
        "\n",
        "        max_damage = int(input(f\"Максимальная сила атаки в армии {i + 1}: \"))\n",
        "\n",
        "        army = BeetlesArmy(\n",
        "            beetles_name=name_enum,\n",
        "            beetles_army_size=size,\n",
        "            beetles_max_health=max_hp,\n",
        "            beetles_max_power=max_damage\n",
        "        )\n",
        "\n",
        "        armies.append(army)\n",
        "\n",
        "    rprint(f\"\\nСоздано {len(armies)} армий!\")\n",
        "\n",
        "    answer = input(\"\\nНачинаем? [Да/Нет]\")\n",
        "\n",
        "    if answer.upper() == \"ДА\":\n",
        "        start_battle(armies)\n",
        "    elif answer.upper() == \"НЕТ\":\n",
        "        rprint(\"Как хотите.\")\n",
        "    else:\n",
        "        rprint(\"Не понял.\")\n",
        "\n",
        "\n",
        "def start_battle(armies):\n",
        "    while len(armies) > 1:\n",
        "        army1 = armies[0]\n",
        "        army2 = armies[1]\n",
        "\n",
        "        if len(army1) > 0 and len(army2) > 0:\n",
        "            army1.beetles_list[0].attack(army2.beetles_list[0])\n",
        "\n",
        "            if army2.beetles_list[0].health_points <= 0:\n",
        "                rprint(f\"{army2.beetles_list[0].name} [bold red3]погиб[/bold red3]!\")\n",
        "                army2.beetles_list.pop(0)\n",
        "                if (army1.beetles_list[0].health_points + 10) <= army1.beetles_max_health:\n",
        "                    army1.beetles_list[0].health_points += 10\n",
        "\n",
        "            if len(army2) > 0:\n",
        "                army2.beetles_list[0].attack(army1.beetles_list[0])\n",
        "\n",
        "                if army1.beetles_list[0].health_points <= 0:\n",
        "                    rprint(f\"{army1.beetles_list[0].name} [bold red3]погиб[/bold red3]!\")\n",
        "                    army1.beetles_list.pop(0)\n",
        "                    if (army2.beetles_list[0].health_points + 10) <= army2.beetles_max_health:\n",
        "                        army2.beetles_list[0].health_points += 10\n",
        "\n",
        "            rprint(f\"\\nАрмия {army1.beetles_name}: осталось {len(army1)} жуков\")\n",
        "            rprint(f\"Армия {army2.beetles_name}: осталось {len(army2)} жуков\")\n",
        "            rprint()\n",
        "\n",
        "        else:\n",
        "            if len(army1) == 0:\n",
        "                rprint(f\"Армия {army1.beetles_name} [bold red3]уничтожена[/bold red3]!\")\n",
        "                rprint()\n",
        "                armies.pop(0)\n",
        "            else:\n",
        "                rprint(f\"Армия {army2.beetles_name} [bold red3]уничтожена[/bold red3]!\")\n",
        "                rprint()\n",
        "                armies.pop(1)\n",
        "\n",
        "    rprint(f\"Армия {armies[0].beetles_name} [bold green1]одержала победу[/bold green1]!\")\n",
        "    rprint()\n",
        "\n",
        "\n",
        "begin_game()"
      ]
    },
    {
      "cell_type": "code",
      "source": [],
      "metadata": {
        "id": "1YbRa7RGDhbS"
      },
      "execution_count": null,
      "outputs": []
    }
  ]
}