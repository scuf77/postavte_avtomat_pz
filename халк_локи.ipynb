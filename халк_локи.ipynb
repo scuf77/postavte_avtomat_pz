{
  "nbformat": 4,
  "nbformat_minor": 0,
  "metadata": {
    "colab": {
      "provenance": []
    },
    "kernelspec": {
      "name": "python3",
      "display_name": "Python 3"
    },
    "language_info": {
      "name": "python"
    }
  },
  "cells": [
    {
      "cell_type": "code",
      "execution_count": 2,
      "metadata": {
        "colab": {
          "base_uri": "https://localhost:8080/"
        },
        "id": "ENfqQEsuLN-G",
        "outputId": "f7b34dbe-ab24-4b0c-8e2e-ba3a35f0fa43"
      },
      "outputs": [
        {
          "output_type": "stream",
          "name": "stdout",
          "text": [
            "Хочешь сняться в кино? [Да/Нет]\n",
            "да\n",
            "Халк или Локи? [Халк/Локи]\n",
            "халк\n",
            "Бицуха сколько, брат? [Число]\n",
            "77\n",
            "Добро пожаловать в стаю, брат\n"
          ]
        }
      ],
      "source": [
        "print(\"Хочешь сняться в кино? [Да/Нет]\")\n",
        "a = input().lower()\n",
        "if a == \"да\":\n",
        "    print(\"Халк или Локи? [Халк/Локи]\")\n",
        "    b = input().lower()\n",
        "    if b == 'халк':\n",
        "        print(\"Бицуха сколько, брат? [Число]\")\n",
        "        c = int(input())\n",
        "        if c < 60:\n",
        "            print('Иди домой, ле нефор')\n",
        "        elif c >= 60:\n",
        "            print(\"Добро пожаловать в стаю, брат\")\n",
        "        else:\n",
        "            print('Ты че нефор, ле, пиши нормально, ле')\n",
        "    elif b == 'локи':\n",
        "        print('Кого ты больше любишь? [Маму/Папу]')\n",
        "        d = input().lower()\n",
        "        if d == 'папу':\n",
        "            print('Иди домой к папе, ле')\n",
        "        elif d == 'маму':\n",
        "            print('Иди к папе и спроси кого больше любишь')\n",
        "        else:\n",
        "            print('Ты че нефор, ле, пиши нормально, ле')\n",
        "    else:\n",
        "        print('Ты че нефор, ле, пиши нормально, ле')\n",
        "elif a == 'нет':\n",
        "    print(\"Алибирдиче\")\n",
        "else:\n",
        "    print('Ты че нефор, ле, пиши нормально, ле')"
      ]
    }
  ]
}