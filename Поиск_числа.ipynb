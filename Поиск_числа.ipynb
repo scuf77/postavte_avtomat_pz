{
  "nbformat": 4,
  "nbformat_minor": 0,
  "metadata": {
    "colab": {
      "provenance": []
    },
    "kernelspec": {
      "name": "python3",
      "display_name": "Python 3"
    },
    "language_info": {
      "name": "python"
    }
  },
  "cells": [
    {
      "cell_type": "code",
      "execution_count": 2,
      "metadata": {
        "colab": {
          "base_uri": "https://localhost:8080/"
        },
        "id": "ENfqQEsuLN-G",
        "outputId": "4d2c237c-4f0b-4938-ed32-42b33dd535e2"
      },
      "outputs": [
        {
          "output_type": "stream",
          "name": "stdout",
          "text": [
            "Введите нижнюю границу диапазона:\n",
            "-1000\n",
            "Введите верхнюю границу диапазона:\n",
            "1000\n",
            "Загадайте целое число от -1000 до 1000\n",
            "Ваше число \">\", \"<\" или \"=\" 0?\n",
            ">\n",
            "Ваше число \">\", \"<\" или \"=\" 501?\n",
            "<\n",
            "Ваше число \">\", \"<\" или \"=\" 251?\n",
            ">\n",
            "Ваше число \">\", \"<\" или \"=\" 376?\n",
            "<\n",
            "Ваше число \">\", \"<\" или \"=\" 314?\n",
            "<\n",
            "Ваше число \">\", \"<\" или \"=\" 283?\n",
            "<\n",
            "Ваше число \">\", \"<\" или \"=\" 267?\n",
            ">\n",
            "Ваше число \">\", \"<\" или \"=\" 275?\n",
            ">\n",
            "Ваше число \">\", \"<\" или \"=\" 279?\n",
            ">\n",
            "Ваше число \">\", \"<\" или \"=\" 281?\n",
            "<\n",
            "Ваше число: 280\n"
          ]
        }
      ],
      "source": [
        "print('Введите нижнюю границу диапазона:')\n",
        "niz = int(input())\n",
        "print('Введите верхнюю границу диапазона:')\n",
        "verh = int(input())\n",
        "\n",
        "a = list(range(niz, verh + 1))\n",
        "\n",
        "print('Загадайте целое число от', niz, 'до', verh)\n",
        "\n",
        "while True:\n",
        "    seredina = len(a) // 2\n",
        "    a1 = a[seredina]\n",
        "\n",
        "    print('Ваше число \">\", \"<\" или \"=\" ', a1, '?', sep='')\n",
        "    user = input().lower()\n",
        "\n",
        "    if user == 'exit':\n",
        "        print('Вы вышли из программы')\n",
        "        break\n",
        "    elif user == '=':\n",
        "        print('Ваше число:', a1)\n",
        "        break\n",
        "    elif user == '<':\n",
        "        a = a[:seredina]\n",
        "    elif user == '>':\n",
        "        a = a[seredina + 1:]\n",
        "    else:\n",
        "        print('Пиши только \"=\", \"<\", \">\" или \"exit\"')\n",
        "        continue\n",
        "\n",
        "    if len(a) == 1:\n",
        "        print('Ваше число:', a[0])\n",
        "        break\n",
        "    if len(a) == 0:\n",
        "        print('Походу ты меня обманываешь))')\n",
        "        break"
      ]
    }
  ]
}