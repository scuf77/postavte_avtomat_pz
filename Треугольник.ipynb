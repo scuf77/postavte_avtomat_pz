{
  "nbformat": 4,
  "nbformat_minor": 0,
  "metadata": {
    "colab": {
      "provenance": []
    },
    "kernelspec": {
      "name": "python3",
      "display_name": "Python 3"
    },
    "language_info": {
      "name": "python"
    }
  },
  "cells": [
    {
      "cell_type": "code",
      "execution_count": 3,
      "metadata": {
        "colab": {
          "base_uri": "https://localhost:8080/"
        },
        "id": "ENfqQEsuLN-G",
        "outputId": "02f5f676-5f47-446d-d56f-1cfd4c3997bb"
      },
      "outputs": [
        {
          "output_type": "stream",
          "name": "stdout",
          "text": [
            "Введите число от 1 до 10: 10\n",
            "                   1                    \n",
            "                  1 1                   \n",
            "                 1 2 1                  \n",
            "                1 3 3 1                 \n",
            "               1 4 6 4 1                \n",
            "             1 5 10 10 5 1              \n",
            "            1 6 15 20 15 6 1            \n",
            "          1 7 21 35 35 21 7 1           \n",
            "         1 8 28 56 70 56 28 8 1         \n",
            "      1 9 36 84 126 126 84 36 9 1       \n"
          ]
        }
      ],
      "source": [
        "n = int(input(\"Введите число от 1 до 10: \"))\n",
        "s = [1]\n",
        "\n",
        "for i in range(n):\n",
        "    a = \" \".join(str(x) for x in s)\n",
        "    print(a.center(n * 4))\n",
        "\n",
        "    s1 = [1]\n",
        "    for j in range(len(s) - 1):\n",
        "        s1.append(s[j] + s[j + 1])\n",
        "    s1.append(1)\n",
        "\n",
        "    s = s1"
      ]
    }
  ]
}