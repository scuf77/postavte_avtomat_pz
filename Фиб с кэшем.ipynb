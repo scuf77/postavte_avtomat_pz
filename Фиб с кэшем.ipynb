{
  "nbformat": 4,
  "nbformat_minor": 0,
  "metadata": {
    "colab": {
      "provenance": []
    },
    "kernelspec": {
      "name": "python3",
      "display_name": "Python 3"
    },
    "language_info": {
      "name": "python"
    }
  },
  "cells": [
    {
      "cell_type": "code",
      "execution_count": 1,
      "metadata": {
        "id": "7ZwZiQ2r6RVY",
        "outputId": "7dd69476-5245-4e77-c109-35de128dc1db",
        "colab": {
          "base_uri": "https://localhost:8080/"
        }
      },
      "outputs": [
        {
          "output_type": "stream",
          "name": "stdout",
          "text": [
            "Введите номер числа Фибоначчи: 15\n",
            "15-е число Фибоначчи: 610\n"
          ]
        }
      ],
      "source": [
        "cache = {\n",
        "          0:0,\n",
        "          1:1,\n",
        "          2:1,\n",
        "          3:2,\n",
        "          4:3\n",
        "          }\n",
        "\n",
        "def  fibonacci(n):\n",
        "    if n in cache:\n",
        "        return cache[n]\n",
        "    current = fibonacci(n - 1) + fibonacci(n - 2)\n",
        "    cache[n] = current\n",
        "    return current\n",
        "\n",
        "n = int(input(\"Введите номер числа Фибоначчи: \"))\n",
        "print(f'{n}-е число Фибоначчи: {fibonacci(n)}')"
      ]
    }
  ]
}