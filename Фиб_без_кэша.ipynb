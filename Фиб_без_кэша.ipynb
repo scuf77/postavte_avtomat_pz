{
  "nbformat": 4,
  "nbformat_minor": 0,
  "metadata": {
    "colab": {
      "provenance": []
    },
    "kernelspec": {
      "name": "python3",
      "display_name": "Python 3"
    },
    "language_info": {
      "name": "python"
    }
  },
  "cells": [
    {
      "cell_type": "code",
      "execution_count": 5,
      "metadata": {
        "colab": {
          "base_uri": "https://localhost:8080/"
        },
        "id": "ENfqQEsuLN-G",
        "outputId": "276235b3-1bfb-4e75-8e9e-3b73feb5f079"
      },
      "outputs": [
        {
          "output_type": "stream",
          "name": "stdout",
          "text": [
            "Введите номер числа Фибоначчи: 8\n",
            "8-е число Фибоначчи: 21\n"
          ]
        }
      ],
      "source": [
        "def fibonacci(n):\n",
        "    if n == 0:\n",
        "        return 0\n",
        "    elif n == 1:\n",
        "        return 1\n",
        "    else:\n",
        "        return fibonacci(n - 1) + fibonacci(n - 2)\n",
        "\n",
        "n = int(input(\"Введите номер числа Фибоначчи: \"))\n",
        "print(f'{n}-е число Фибоначчи: {fibonacci(n)}')"
      ]
    }
  ]
}